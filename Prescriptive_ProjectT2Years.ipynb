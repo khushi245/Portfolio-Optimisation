{
  "nbformat": 4,
  "nbformat_minor": 0,
  "metadata": {
    "colab": {
      "name": "Prescriptive_ProjectT2Years.ipynb",
      "provenance": [],
      "collapsed_sections": [],
      "machine_shape": "hm"
    },
    "kernelspec": {
      "display_name": "Python 3",
      "name": "python3"
    },
    "language_info": {
      "name": "python"
    }
  },
  "cells": [
    {
      "cell_type": "code",
      "metadata": {
        "id": "MEGeA7e1dOuV",
        "colab": {
          "base_uri": "https://localhost:8080/"
        },
        "outputId": "713123c1-5d2f-4561-97cc-dde3f099d79e"
      },
      "source": [
        "!pip install gurobipy yfinance\n",
        "!pip install cvxpy\n",
        "!pip install pulp\n",
        "\n",
        "import pandas as pd\n",
        "import numpy as np\n",
        "import yfinance as yf\n",
        "from cvxpy import *\n",
        "import seaborn as sns\n",
        "import matplotlib.pyplot as plt\n",
        "from pulp import *"
      ],
      "execution_count": 1,
      "outputs": [
        {
          "output_type": "stream",
          "name": "stdout",
          "text": [
            "Collecting gurobipy\n",
            "  Downloading gurobipy-9.5.0-cp37-cp37m-manylinux2014_x86_64.whl (11.5 MB)\n",
            "\u001b[K     |████████████████████████████████| 11.5 MB 10.7 MB/s \n",
            "\u001b[?25hCollecting yfinance\n",
            "  Downloading yfinance-0.1.67-py2.py3-none-any.whl (25 kB)\n",
            "Collecting lxml>=4.5.1\n",
            "  Downloading lxml-4.6.4-cp37-cp37m-manylinux_2_17_x86_64.manylinux2014_x86_64.manylinux_2_24_x86_64.whl (6.3 MB)\n",
            "\u001b[K     |████████████████████████████████| 6.3 MB 44.7 MB/s \n",
            "\u001b[?25hRequirement already satisfied: multitasking>=0.0.7 in /usr/local/lib/python3.7/dist-packages (from yfinance) (0.0.10)\n",
            "Requirement already satisfied: requests>=2.20 in /usr/local/lib/python3.7/dist-packages (from yfinance) (2.23.0)\n",
            "Requirement already satisfied: numpy>=1.15 in /usr/local/lib/python3.7/dist-packages (from yfinance) (1.19.5)\n",
            "Requirement already satisfied: pandas>=0.24 in /usr/local/lib/python3.7/dist-packages (from yfinance) (1.1.5)\n",
            "Requirement already satisfied: python-dateutil>=2.7.3 in /usr/local/lib/python3.7/dist-packages (from pandas>=0.24->yfinance) (2.8.2)\n",
            "Requirement already satisfied: pytz>=2017.2 in /usr/local/lib/python3.7/dist-packages (from pandas>=0.24->yfinance) (2018.9)\n",
            "Requirement already satisfied: six>=1.5 in /usr/local/lib/python3.7/dist-packages (from python-dateutil>=2.7.3->pandas>=0.24->yfinance) (1.15.0)\n",
            "Requirement already satisfied: urllib3!=1.25.0,!=1.25.1,<1.26,>=1.21.1 in /usr/local/lib/python3.7/dist-packages (from requests>=2.20->yfinance) (1.24.3)\n",
            "Requirement already satisfied: idna<3,>=2.5 in /usr/local/lib/python3.7/dist-packages (from requests>=2.20->yfinance) (2.10)\n",
            "Requirement already satisfied: chardet<4,>=3.0.2 in /usr/local/lib/python3.7/dist-packages (from requests>=2.20->yfinance) (3.0.4)\n",
            "Requirement already satisfied: certifi>=2017.4.17 in /usr/local/lib/python3.7/dist-packages (from requests>=2.20->yfinance) (2021.10.8)\n",
            "Installing collected packages: lxml, yfinance, gurobipy\n",
            "  Attempting uninstall: lxml\n",
            "    Found existing installation: lxml 4.2.6\n",
            "    Uninstalling lxml-4.2.6:\n",
            "      Successfully uninstalled lxml-4.2.6\n",
            "Successfully installed gurobipy-9.5.0 lxml-4.6.4 yfinance-0.1.67\n",
            "Requirement already satisfied: cvxpy in /usr/local/lib/python3.7/dist-packages (1.0.31)\n",
            "Requirement already satisfied: ecos>=2 in /usr/local/lib/python3.7/dist-packages (from cvxpy) (2.0.7.post1)\n",
            "Requirement already satisfied: scipy>=1.1.0 in /usr/local/lib/python3.7/dist-packages (from cvxpy) (1.4.1)\n",
            "Requirement already satisfied: osqp>=0.4.1 in /usr/local/lib/python3.7/dist-packages (from cvxpy) (0.6.2.post0)\n",
            "Requirement already satisfied: numpy>=1.15 in /usr/local/lib/python3.7/dist-packages (from cvxpy) (1.19.5)\n",
            "Requirement already satisfied: scs>=1.1.3 in /usr/local/lib/python3.7/dist-packages (from cvxpy) (2.1.4)\n",
            "Requirement already satisfied: multiprocess in /usr/local/lib/python3.7/dist-packages (from cvxpy) (0.70.12.2)\n",
            "Requirement already satisfied: qdldl in /usr/local/lib/python3.7/dist-packages (from osqp>=0.4.1->cvxpy) (0.1.5.post0)\n",
            "Requirement already satisfied: dill>=0.3.4 in /usr/local/lib/python3.7/dist-packages (from multiprocess->cvxpy) (0.3.4)\n",
            "Collecting pulp\n",
            "  Downloading PuLP-2.5.1-py3-none-any.whl (41.2 MB)\n",
            "\u001b[K     |████████████████████████████████| 41.2 MB 1.3 MB/s \n",
            "\u001b[?25hInstalling collected packages: pulp\n",
            "Successfully installed pulp-2.5.1\n"
          ]
        }
      ]
    },
    {
      "cell_type": "code",
      "metadata": {
        "id": "PlKsRCWrr_OH"
      },
      "source": [
        "import warnings\n",
        "warnings.filterwarnings('ignore')"
      ],
      "execution_count": 2,
      "outputs": []
    },
    {
      "cell_type": "code",
      "metadata": {
        "id": "odT7xoTzdaCK"
      },
      "source": [
        "import requests \n",
        "from bs4 import BeautifulSoup "
      ],
      "execution_count": 3,
      "outputs": []
    },
    {
      "cell_type": "code",
      "metadata": {
        "id": "eQ4oAW1KdwLS"
      },
      "source": [
        "pd.set_option('max_columns', None)\n",
        "pd.set_option('max_rows', None)"
      ],
      "execution_count": 4,
      "outputs": []
    },
    {
      "cell_type": "markdown",
      "metadata": {
        "id": "Tbk740sWpe1Q"
      },
      "source": [
        "## DATA COLLECTION"
      ]
    },
    {
      "cell_type": "code",
      "metadata": {
        "id": "V7lNXphzhbN7"
      },
      "source": [
        "wikiurl=\"https://en.wikipedia.org/wiki/List_of_S%26P_600_companies\"\n",
        "table_class=\"wikitable sortable jquery-tablesorter\"\n",
        "response=requests.get(wikiurl)\n",
        "\n",
        "soup = BeautifulSoup(response.text, 'html.parser')\n",
        "small_cap=soup.find('table',{'class':\"wikitable\"})"
      ],
      "execution_count": 5,
      "outputs": []
    },
    {
      "cell_type": "code",
      "metadata": {
        "id": "lTj_EhL6hcvJ",
        "colab": {
          "base_uri": "https://localhost:8080/",
          "height": 206
        },
        "outputId": "db5a6426-5f28-4840-92df-b020f967ec2e"
      },
      "source": [
        "df = pd.read_html(str(small_cap))\n",
        "df = pd.DataFrame(df[0])\n",
        "df.head()"
      ],
      "execution_count": 6,
      "outputs": [
        {
          "output_type": "execute_result",
          "data": {
            "text/html": [
              "<div>\n",
              "<style scoped>\n",
              "    .dataframe tbody tr th:only-of-type {\n",
              "        vertical-align: middle;\n",
              "    }\n",
              "\n",
              "    .dataframe tbody tr th {\n",
              "        vertical-align: top;\n",
              "    }\n",
              "\n",
              "    .dataframe thead th {\n",
              "        text-align: right;\n",
              "    }\n",
              "</style>\n",
              "<table border=\"1\" class=\"dataframe\">\n",
              "  <thead>\n",
              "    <tr style=\"text-align: right;\">\n",
              "      <th></th>\n",
              "      <th>Company</th>\n",
              "      <th>Ticker symbol</th>\n",
              "      <th>GICS Sector</th>\n",
              "      <th>GICS Sub-Industry</th>\n",
              "      <th>SEC filings</th>\n",
              "      <th>CIK</th>\n",
              "    </tr>\n",
              "  </thead>\n",
              "  <tbody>\n",
              "    <tr>\n",
              "      <th>0</th>\n",
              "      <td>The Aaron's Company</td>\n",
              "      <td>AAN</td>\n",
              "      <td>Consumer Discretionary</td>\n",
              "      <td>Homefurnishing Retail</td>\n",
              "      <td>view</td>\n",
              "      <td>1821393</td>\n",
              "    </tr>\n",
              "    <tr>\n",
              "      <th>1</th>\n",
              "      <td>AAON, Inc.</td>\n",
              "      <td>AAON</td>\n",
              "      <td>Industrials</td>\n",
              "      <td>Building Products</td>\n",
              "      <td>view</td>\n",
              "      <td>824142</td>\n",
              "    </tr>\n",
              "    <tr>\n",
              "      <th>2</th>\n",
              "      <td>American Assets Trust</td>\n",
              "      <td>AAT</td>\n",
              "      <td>Real Estate</td>\n",
              "      <td>Diversified REITs</td>\n",
              "      <td>view</td>\n",
              "      <td>1500217</td>\n",
              "    </tr>\n",
              "    <tr>\n",
              "      <th>3</th>\n",
              "      <td>Atlas Air Worldwide Holdings</td>\n",
              "      <td>AAWW</td>\n",
              "      <td>Industrials</td>\n",
              "      <td>Air Freight &amp; Logistics</td>\n",
              "      <td>view</td>\n",
              "      <td>1135185</td>\n",
              "    </tr>\n",
              "    <tr>\n",
              "      <th>4</th>\n",
              "      <td>Ameris Bancorp</td>\n",
              "      <td>ABCB</td>\n",
              "      <td>Financials</td>\n",
              "      <td>Regional Banks</td>\n",
              "      <td>view</td>\n",
              "      <td>351569</td>\n",
              "    </tr>\n",
              "  </tbody>\n",
              "</table>\n",
              "</div>"
            ],
            "text/plain": [
              "                        Company Ticker symbol             GICS Sector  \\\n",
              "0           The Aaron's Company           AAN  Consumer Discretionary   \n",
              "1                    AAON, Inc.          AAON             Industrials   \n",
              "2         American Assets Trust           AAT             Real Estate   \n",
              "3  Atlas Air Worldwide Holdings          AAWW             Industrials   \n",
              "4                Ameris Bancorp          ABCB              Financials   \n",
              "\n",
              "         GICS Sub-Industry SEC filings      CIK  \n",
              "0    Homefurnishing Retail        view  1821393  \n",
              "1        Building Products        view   824142  \n",
              "2        Diversified REITs        view  1500217  \n",
              "3  Air Freight & Logistics        view  1135185  \n",
              "4           Regional Banks        view   351569  "
            ]
          },
          "metadata": {},
          "execution_count": 6
        }
      ]
    },
    {
      "cell_type": "code",
      "metadata": {
        "id": "Kj7pWaZUheK1"
      },
      "source": [
        "df = df[['Ticker symbol', 'GICS Sector']]"
      ],
      "execution_count": 7,
      "outputs": []
    },
    {
      "cell_type": "code",
      "metadata": {
        "id": "U44UfJDWhftm",
        "colab": {
          "base_uri": "https://localhost:8080/"
        },
        "outputId": "d84e1a0a-0413-4a3b-b191-c73e9a2655a0"
      },
      "source": [
        "df['GICS Sector'].value_counts()"
      ],
      "execution_count": 8,
      "outputs": [
        {
          "output_type": "execute_result",
          "data": {
            "text/plain": [
              "Financials                106\n",
              "Consumer Discretionary     91\n",
              "Industrials                88\n",
              "Health Care                81\n",
              "Information Technology     63\n",
              "Real Estate                55\n",
              "Materials                  39\n",
              "Energy                     32\n",
              "Consumer Staples           28\n",
              "Communication Services     10\n",
              "Utilities                   8\n",
              "Name: GICS Sector, dtype: int64"
            ]
          },
          "metadata": {},
          "execution_count": 8
        }
      ]
    },
    {
      "cell_type": "code",
      "metadata": {
        "id": "mpYV86y9hkc_"
      },
      "source": [
        "finance_small = list(df['Ticker symbol'][df['GICS Sector'] == 'Financials'])\n",
        "healthcare_small = list(df['Ticker symbol'][df['GICS Sector'] == 'Health Care'])\n",
        "technology_small = list(df['Ticker symbol'][df['GICS Sector'] == 'Information Technology'])\n",
        "real_estate_small = list(df['Ticker symbol'][df['GICS Sector'] == 'Real Estate'])\n",
        "industrial_small = list(df['Ticker symbol'][df['GICS Sector'] == 'Industrials'])\n",
        "\n",
        "small = finance_small + healthcare_small + technology_small + real_estate_small + industrial_small"
      ],
      "execution_count": 9,
      "outputs": []
    },
    {
      "cell_type": "code",
      "metadata": {
        "id": "vTmei7SFiBT5",
        "colab": {
          "base_uri": "https://localhost:8080/"
        },
        "outputId": "2b0cbe36-82b7-4e35-f11e-b2e8fd28da55"
      },
      "source": [
        "small_cap = yf.download(small, end = '2021-06-01', start = '2019-01-01', interval='3mo')"
      ],
      "execution_count": 10,
      "outputs": [
        {
          "output_type": "stream",
          "name": "stdout",
          "text": [
            "[*********************100%***********************]  393 of 393 completed\n",
            "\n",
            "4 Failed downloads:\n",
            "- FBRT: Data doesn't exist for startDate = 1546300800, endDate = 1622505600\n",
            "- ONL: Data doesn't exist for startDate = 1546300800, endDate = 1622505600\n",
            "- MOG.A: No data found, symbol may be delisted\n",
            "- CCSI: Data doesn't exist for startDate = 1546300800, endDate = 1622505600\n"
          ]
        }
      ]
    },
    {
      "cell_type": "code",
      "metadata": {
        "id": "cD3CYtvviIPj"
      },
      "source": [
        "small_cap = small_cap.Close\n",
        "small_drop = list(small_cap.iloc[1,:][small_cap.iloc[1,:].isnull()].index)\n",
        "small_cap.drop(small_drop, axis = 1, inplace = True)"
      ],
      "execution_count": 11,
      "outputs": []
    },
    {
      "cell_type": "code",
      "metadata": {
        "id": "rFcfD6DuOphX"
      },
      "source": [
        "small = small_cap.columns"
      ],
      "execution_count": 12,
      "outputs": []
    },
    {
      "cell_type": "code",
      "metadata": {
        "id": "K1STVqtQOry_"
      },
      "source": [
        "for stock in finance_small:\n",
        "  if stock not in small:\n",
        "    finance_small.remove(stock)\n",
        "\n",
        "for stock in healthcare_small:\n",
        "  if stock not in small:\n",
        "    healthcare_small.remove(stock)\n",
        "\n",
        "for stock in technology_small:\n",
        "  if stock not in small:\n",
        "    technology_small.remove(stock)\n",
        "\n",
        "for stock in real_estate_small:\n",
        "  if stock not in small:\n",
        "    real_estate_small.remove(stock)\n",
        "    \n",
        "for stock in industrial_small:\n",
        "  if stock not in small:\n",
        "    industrial_small.remove(stock)"
      ],
      "execution_count": 13,
      "outputs": []
    },
    {
      "cell_type": "code",
      "metadata": {
        "id": "NSZ4HlcMlMst"
      },
      "source": [
        "small_cap.dropna(axis = 0, inplace = True)"
      ],
      "execution_count": 14,
      "outputs": []
    },
    {
      "cell_type": "code",
      "metadata": {
        "id": "VbvwwzxqlNxY"
      },
      "source": [
        "wikiurl=\"https://en.wikipedia.org/wiki/List_of_S%26P_400_companies\"\n",
        "table_class=\"wikitable sortable jquery-tablesorter\"\n",
        "response=requests.get(wikiurl)\n",
        "\n",
        "soup = BeautifulSoup(response.text, 'html.parser')\n",
        "mid_cap=soup.find('table',{'class':\"wikitable\"})"
      ],
      "execution_count": 15,
      "outputs": []
    },
    {
      "cell_type": "code",
      "metadata": {
        "id": "_UywFb-YlbFE",
        "colab": {
          "base_uri": "https://localhost:8080/",
          "height": 206
        },
        "outputId": "8bba3839-52ae-4075-86b1-56b335003dd8"
      },
      "source": [
        "df = pd.read_html(str(mid_cap))\n",
        "df = pd.DataFrame(df[0])\n",
        "df.head()"
      ],
      "execution_count": 16,
      "outputs": [
        {
          "output_type": "execute_result",
          "data": {
            "text/html": [
              "<div>\n",
              "<style scoped>\n",
              "    .dataframe tbody tr th:only-of-type {\n",
              "        vertical-align: middle;\n",
              "    }\n",
              "\n",
              "    .dataframe tbody tr th {\n",
              "        vertical-align: top;\n",
              "    }\n",
              "\n",
              "    .dataframe thead th {\n",
              "        text-align: right;\n",
              "    }\n",
              "</style>\n",
              "<table border=\"1\" class=\"dataframe\">\n",
              "  <thead>\n",
              "    <tr style=\"text-align: right;\">\n",
              "      <th></th>\n",
              "      <th>Security</th>\n",
              "      <th>Ticker symbol</th>\n",
              "      <th>GICS Sector</th>\n",
              "      <th>GICS Sub-Industry</th>\n",
              "      <th>SEC filings</th>\n",
              "    </tr>\n",
              "  </thead>\n",
              "  <tbody>\n",
              "    <tr>\n",
              "      <th>0</th>\n",
              "      <td>American Campus Communities</td>\n",
              "      <td>ACC</td>\n",
              "      <td>Real Estate</td>\n",
              "      <td>Residential REITs</td>\n",
              "      <td>reports</td>\n",
              "    </tr>\n",
              "    <tr>\n",
              "      <th>1</th>\n",
              "      <td>Acadia Healthcare</td>\n",
              "      <td>ACHC</td>\n",
              "      <td>Health Care</td>\n",
              "      <td>Health Care Facilities</td>\n",
              "      <td>reports</td>\n",
              "    </tr>\n",
              "    <tr>\n",
              "      <th>2</th>\n",
              "      <td>ACI Worldwide</td>\n",
              "      <td>ACIW</td>\n",
              "      <td>Information Technology</td>\n",
              "      <td>Application Software</td>\n",
              "      <td>reports</td>\n",
              "    </tr>\n",
              "    <tr>\n",
              "      <th>3</th>\n",
              "      <td>AECOM</td>\n",
              "      <td>ACM</td>\n",
              "      <td>Industrials</td>\n",
              "      <td>Construction &amp; Engineering</td>\n",
              "      <td>reports</td>\n",
              "    </tr>\n",
              "    <tr>\n",
              "      <th>4</th>\n",
              "      <td>Alliance Data Systems</td>\n",
              "      <td>ADS</td>\n",
              "      <td>Information Technology</td>\n",
              "      <td>Data Processing &amp; Outsourced Services</td>\n",
              "      <td>reports</td>\n",
              "    </tr>\n",
              "  </tbody>\n",
              "</table>\n",
              "</div>"
            ],
            "text/plain": [
              "                      Security Ticker symbol             GICS Sector  \\\n",
              "0  American Campus Communities           ACC             Real Estate   \n",
              "1            Acadia Healthcare          ACHC             Health Care   \n",
              "2                ACI Worldwide          ACIW  Information Technology   \n",
              "3                        AECOM           ACM             Industrials   \n",
              "4        Alliance Data Systems           ADS  Information Technology   \n",
              "\n",
              "                       GICS Sub-Industry SEC filings  \n",
              "0                      Residential REITs     reports  \n",
              "1                 Health Care Facilities     reports  \n",
              "2                   Application Software     reports  \n",
              "3             Construction & Engineering     reports  \n",
              "4  Data Processing & Outsourced Services     reports  "
            ]
          },
          "metadata": {},
          "execution_count": 16
        }
      ]
    },
    {
      "cell_type": "code",
      "metadata": {
        "id": "jk6wVhmhlczV"
      },
      "source": [
        "finance_mid = list(df['Ticker symbol'][df['GICS Sector'] == 'Financials'])\n",
        "healthcare_mid = list(df['Ticker symbol'][df['GICS Sector'] == 'Health Care'])\n",
        "technology_mid = list(df['Ticker symbol'][df['GICS Sector'] == 'Information Technology'])\n",
        "real_estate_mid = list(df['Ticker symbol'][df['GICS Sector'] == 'Real Estate'])\n",
        "industrial_mid = list(df['Ticker symbol'][df['GICS Sector'] == 'Industrials'])\n",
        "\n",
        "mid = finance_mid + healthcare_mid + technology_mid + real_estate_mid + industrial_mid"
      ],
      "execution_count": 17,
      "outputs": []
    },
    {
      "cell_type": "code",
      "metadata": {
        "id": "n9vGTHrrls_6",
        "colab": {
          "base_uri": "https://localhost:8080/"
        },
        "outputId": "319d426c-279f-448f-c980-4c2220acc546"
      },
      "source": [
        "mid_cap = yf.download(mid, end = '2021-06-01', start = '2019-01-01', interval='3mo')"
      ],
      "execution_count": 18,
      "outputs": [
        {
          "output_type": "stream",
          "name": "stdout",
          "text": [
            "[*********************100%***********************]  261 of 261 completed\n",
            "\n",
            "2 Failed downloads:\n",
            "- GXO: Data doesn't exist for startDate = 1546300800, endDate = 1622505600\n",
            "- KD: Data doesn't exist for startDate = 1546300800, endDate = 1622505600\n"
          ]
        }
      ]
    },
    {
      "cell_type": "code",
      "metadata": {
        "id": "PMrinGEOluae"
      },
      "source": [
        "mid_cap = mid_cap.Close\n",
        "mid_drop = list(mid_cap.iloc[1,:][mid_cap.iloc[1,:].isnull()].index)\n",
        "mid_cap.drop(mid_drop, axis = 1, inplace = True)"
      ],
      "execution_count": 19,
      "outputs": []
    },
    {
      "cell_type": "code",
      "metadata": {
        "id": "QbJGc_-2mF6B"
      },
      "source": [
        "mid_cap.dropna(axis = 0, inplace = True)"
      ],
      "execution_count": 20,
      "outputs": []
    },
    {
      "cell_type": "code",
      "metadata": {
        "id": "7cXxZiNiP4QO"
      },
      "source": [
        "mid = mid_cap.columns"
      ],
      "execution_count": 21,
      "outputs": []
    },
    {
      "cell_type": "code",
      "metadata": {
        "id": "qugfI-zZQkzH"
      },
      "source": [
        "for stock in finance_mid:\n",
        "  if stock not in mid:\n",
        "    finance_mid.remove(stock)\n",
        "\n",
        "for stock in healthcare_mid:\n",
        "  if stock not in mid:\n",
        "    healthcare_mid.remove(stock)\n",
        "\n",
        "for stock in technology_mid:\n",
        "  if stock not in mid:\n",
        "    technology_mid.remove(stock)\n",
        "\n",
        "for stock in real_estate_mid:\n",
        "  if stock not in mid:\n",
        "    real_estate_mid.remove(stock)\n",
        "    \n",
        "for stock in industrial_mid:\n",
        "  if stock not in mid:\n",
        "    industrial_mid.remove(stock)"
      ],
      "execution_count": 22,
      "outputs": []
    },
    {
      "cell_type": "code",
      "metadata": {
        "id": "9jFlozmbmqFr"
      },
      "source": [
        "wikiurl=\"https://en.wikipedia.org/wiki/List_of_S%26P_500_companies\"\n",
        "table_class=\"wikitable sortable jquery-tablesorter\"\n",
        "response=requests.get(wikiurl)\n",
        "\n",
        "soup = BeautifulSoup(response.text, 'html.parser')\n",
        "large_cap=soup.find('table',{'class':\"wikitable\"})"
      ],
      "execution_count": 23,
      "outputs": []
    },
    {
      "cell_type": "code",
      "metadata": {
        "id": "jVml54S-m13O",
        "colab": {
          "base_uri": "https://localhost:8080/",
          "height": 206
        },
        "outputId": "8bee589c-b293-4709-8fa6-29ecb931cc52"
      },
      "source": [
        "df = pd.read_html(str(large_cap))\n",
        "df = pd.DataFrame(df[0])\n",
        "df.head()"
      ],
      "execution_count": 24,
      "outputs": [
        {
          "output_type": "execute_result",
          "data": {
            "text/html": [
              "<div>\n",
              "<style scoped>\n",
              "    .dataframe tbody tr th:only-of-type {\n",
              "        vertical-align: middle;\n",
              "    }\n",
              "\n",
              "    .dataframe tbody tr th {\n",
              "        vertical-align: top;\n",
              "    }\n",
              "\n",
              "    .dataframe thead th {\n",
              "        text-align: right;\n",
              "    }\n",
              "</style>\n",
              "<table border=\"1\" class=\"dataframe\">\n",
              "  <thead>\n",
              "    <tr style=\"text-align: right;\">\n",
              "      <th></th>\n",
              "      <th>Symbol</th>\n",
              "      <th>Security</th>\n",
              "      <th>SEC filings</th>\n",
              "      <th>GICS Sector</th>\n",
              "      <th>GICS Sub-Industry</th>\n",
              "      <th>Headquarters Location</th>\n",
              "      <th>Date first added</th>\n",
              "      <th>CIK</th>\n",
              "      <th>Founded</th>\n",
              "    </tr>\n",
              "  </thead>\n",
              "  <tbody>\n",
              "    <tr>\n",
              "      <th>0</th>\n",
              "      <td>MMM</td>\n",
              "      <td>3M</td>\n",
              "      <td>reports</td>\n",
              "      <td>Industrials</td>\n",
              "      <td>Industrial Conglomerates</td>\n",
              "      <td>Saint Paul, Minnesota</td>\n",
              "      <td>1976-08-09</td>\n",
              "      <td>66740</td>\n",
              "      <td>1902</td>\n",
              "    </tr>\n",
              "    <tr>\n",
              "      <th>1</th>\n",
              "      <td>ABT</td>\n",
              "      <td>Abbott Laboratories</td>\n",
              "      <td>reports</td>\n",
              "      <td>Health Care</td>\n",
              "      <td>Health Care Equipment</td>\n",
              "      <td>North Chicago, Illinois</td>\n",
              "      <td>1964-03-31</td>\n",
              "      <td>1800</td>\n",
              "      <td>1888</td>\n",
              "    </tr>\n",
              "    <tr>\n",
              "      <th>2</th>\n",
              "      <td>ABBV</td>\n",
              "      <td>AbbVie</td>\n",
              "      <td>reports</td>\n",
              "      <td>Health Care</td>\n",
              "      <td>Pharmaceuticals</td>\n",
              "      <td>North Chicago, Illinois</td>\n",
              "      <td>2012-12-31</td>\n",
              "      <td>1551152</td>\n",
              "      <td>2013 (1888)</td>\n",
              "    </tr>\n",
              "    <tr>\n",
              "      <th>3</th>\n",
              "      <td>ABMD</td>\n",
              "      <td>Abiomed</td>\n",
              "      <td>reports</td>\n",
              "      <td>Health Care</td>\n",
              "      <td>Health Care Equipment</td>\n",
              "      <td>Danvers, Massachusetts</td>\n",
              "      <td>2018-05-31</td>\n",
              "      <td>815094</td>\n",
              "      <td>1981</td>\n",
              "    </tr>\n",
              "    <tr>\n",
              "      <th>4</th>\n",
              "      <td>ACN</td>\n",
              "      <td>Accenture</td>\n",
              "      <td>reports</td>\n",
              "      <td>Information Technology</td>\n",
              "      <td>IT Consulting &amp; Other Services</td>\n",
              "      <td>Dublin, Ireland</td>\n",
              "      <td>2011-07-06</td>\n",
              "      <td>1467373</td>\n",
              "      <td>1989</td>\n",
              "    </tr>\n",
              "  </tbody>\n",
              "</table>\n",
              "</div>"
            ],
            "text/plain": [
              "  Symbol             Security SEC filings             GICS Sector  \\\n",
              "0    MMM                   3M     reports             Industrials   \n",
              "1    ABT  Abbott Laboratories     reports             Health Care   \n",
              "2   ABBV               AbbVie     reports             Health Care   \n",
              "3   ABMD              Abiomed     reports             Health Care   \n",
              "4    ACN            Accenture     reports  Information Technology   \n",
              "\n",
              "                GICS Sub-Industry    Headquarters Location Date first added  \\\n",
              "0        Industrial Conglomerates    Saint Paul, Minnesota       1976-08-09   \n",
              "1           Health Care Equipment  North Chicago, Illinois       1964-03-31   \n",
              "2                 Pharmaceuticals  North Chicago, Illinois       2012-12-31   \n",
              "3           Health Care Equipment   Danvers, Massachusetts       2018-05-31   \n",
              "4  IT Consulting & Other Services          Dublin, Ireland       2011-07-06   \n",
              "\n",
              "       CIK      Founded  \n",
              "0    66740         1902  \n",
              "1     1800         1888  \n",
              "2  1551152  2013 (1888)  \n",
              "3   815094         1981  \n",
              "4  1467373         1989  "
            ]
          },
          "metadata": {},
          "execution_count": 24
        }
      ]
    },
    {
      "cell_type": "code",
      "metadata": {
        "id": "kKLAkK4Om4LF"
      },
      "source": [
        "finance_large = list(df['Symbol'][df['GICS Sector'] == 'Financials'])\n",
        "healthcare_large = list(df['Symbol'][df['GICS Sector'] == 'Health Care'])\n",
        "technology_large = list(df['Symbol'][df['GICS Sector'] == 'Information Technology'])\n",
        "real_estate_large = list(df['Symbol'][df['GICS Sector'] == 'Real Estate'])\n",
        "industrial_large = list(df['Symbol'][df['GICS Sector'] == 'Industrials'])\n",
        "\n",
        "large = finance_large + healthcare_large + technology_large + real_estate_large + industrial_large"
      ],
      "execution_count": 25,
      "outputs": []
    },
    {
      "cell_type": "code",
      "metadata": {
        "id": "KK8QKzZ4nUaH",
        "colab": {
          "base_uri": "https://localhost:8080/"
        },
        "outputId": "b32aee62-c790-470f-e01c-890ec5491a93"
      },
      "source": [
        "large_cap = yf.download(large, end = '2021-06-01', start = '2019-01-01', interval='3mo')"
      ],
      "execution_count": 26,
      "outputs": [
        {
          "output_type": "stream",
          "name": "stdout",
          "text": [
            "[*********************100%***********************]  306 of 306 completed\n",
            "\n",
            "1 Failed download:\n",
            "- BRK.B: No data found, symbol may be delisted\n"
          ]
        }
      ]
    },
    {
      "cell_type": "code",
      "metadata": {
        "id": "4HuAIZtSnji_"
      },
      "source": [
        "large_cap = large_cap.Close"
      ],
      "execution_count": 27,
      "outputs": []
    },
    {
      "cell_type": "code",
      "metadata": {
        "id": "DBwQQCp5njjD"
      },
      "source": [
        "large_drop = list(large_cap.iloc[1,:][large_cap.iloc[1,:].isnull()].index)\n",
        "large_cap.drop(large_drop, axis = 1, inplace = True)\n",
        "large_cap.dropna(axis = 0, inplace = True)"
      ],
      "execution_count": 28,
      "outputs": []
    },
    {
      "cell_type": "code",
      "metadata": {
        "id": "azkRxA0sQY5-"
      },
      "source": [
        "large = large_cap.columns"
      ],
      "execution_count": 29,
      "outputs": []
    },
    {
      "cell_type": "code",
      "metadata": {
        "id": "1iuA2Pe_njjJ"
      },
      "source": [
        "for stock in finance_large:\n",
        "  if stock not in large:\n",
        "    finance_large.remove(stock)\n",
        "\n",
        "for stock in healthcare_large:\n",
        "  if stock not in large:\n",
        "    healthcare_large.remove(stock)\n",
        "\n",
        "for stock in technology_large:\n",
        "  if stock not in large:\n",
        "    technology_large.remove(stock)\n",
        "\n",
        "for stock in real_estate_large:\n",
        "  if stock not in large:\n",
        "    real_estate_large.remove(stock)\n",
        "    \n",
        "for stock in industrial_large:\n",
        "  if stock not in large:\n",
        "    industrial_large.remove(stock)"
      ],
      "execution_count": 30,
      "outputs": []
    },
    {
      "cell_type": "code",
      "metadata": {
        "id": "fvASFy0noEjA",
        "colab": {
          "base_uri": "https://localhost:8080/"
        },
        "outputId": "bef68255-475a-49a2-9428-4139a8752e67"
      },
      "source": [
        "stocks = pd.concat([small_cap, mid_cap, large_cap], axis = 1)\n",
        "stocks.shape"
      ],
      "execution_count": 31,
      "outputs": [
        {
          "output_type": "execute_result",
          "data": {
            "text/plain": [
              "(10, 937)"
            ]
          },
          "metadata": {},
          "execution_count": 31
        }
      ]
    },
    {
      "cell_type": "code",
      "metadata": {
        "id": "HAIUnV_8rmLv"
      },
      "source": [
        "finance = finance_small + finance_mid + finance_large\n",
        "healthcare = healthcare_small + healthcare_mid + healthcare_large\n",
        "technology = technology_small + technology_mid + technology_large \n",
        "real_estate = real_estate_small + real_estate_mid + real_estate_small\n",
        "industrial = industrial_small + industrial_mid + industrial_large"
      ],
      "execution_count": 32,
      "outputs": []
    },
    {
      "cell_type": "code",
      "metadata": {
        "id": "YGh-4Vq0LKOL",
        "colab": {
          "base_uri": "https://localhost:8080/"
        },
        "outputId": "afa11069-9039-40af-ff8c-9dce1bf232a3"
      },
      "source": [
        "len(finance)"
      ],
      "execution_count": 33,
      "outputs": [
        {
          "output_type": "execute_result",
          "data": {
            "text/plain": [
              "232"
            ]
          },
          "metadata": {},
          "execution_count": 33
        }
      ]
    },
    {
      "cell_type": "code",
      "metadata": {
        "id": "90-JeuzkLNoI",
        "colab": {
          "base_uri": "https://localhost:8080/"
        },
        "outputId": "e97b27c7-40e1-423a-9024-115f3b95f670"
      },
      "source": [
        "len(healthcare)"
      ],
      "execution_count": 34,
      "outputs": [
        {
          "output_type": "execute_result",
          "data": {
            "text/plain": [
              "177"
            ]
          },
          "metadata": {},
          "execution_count": 34
        }
      ]
    },
    {
      "cell_type": "code",
      "metadata": {
        "id": "NvSB3Lu4LNYk",
        "colab": {
          "base_uri": "https://localhost:8080/"
        },
        "outputId": "1fc1bf5c-f0b0-464c-cb6f-ca328772b58b"
      },
      "source": [
        "len(technology)"
      ],
      "execution_count": 35,
      "outputs": [
        {
          "output_type": "execute_result",
          "data": {
            "text/plain": [
              "184"
            ]
          },
          "metadata": {},
          "execution_count": 35
        }
      ]
    },
    {
      "cell_type": "code",
      "metadata": {
        "id": "qEv1cLVxLNOG",
        "colab": {
          "base_uri": "https://localhost:8080/"
        },
        "outputId": "281ab800-9db2-4de6-e5ee-35973aee1725"
      },
      "source": [
        "len(real_estate)"
      ],
      "execution_count": 36,
      "outputs": [
        {
          "output_type": "execute_result",
          "data": {
            "text/plain": [
              "142"
            ]
          },
          "metadata": {},
          "execution_count": 36
        }
      ]
    },
    {
      "cell_type": "code",
      "metadata": {
        "id": "zcPFBiLPLWnp",
        "colab": {
          "base_uri": "https://localhost:8080/"
        },
        "outputId": "e04b6f23-f50d-477a-fd14-aad0a4682836"
      },
      "source": [
        "len(industrial)"
      ],
      "execution_count": 37,
      "outputs": [
        {
          "output_type": "execute_result",
          "data": {
            "text/plain": [
              "226"
            ]
          },
          "metadata": {},
          "execution_count": 37
        }
      ]
    },
    {
      "cell_type": "markdown",
      "metadata": {
        "id": "EnkaJiIUpmTQ"
      },
      "source": [
        "## CALCULATING RETURNS"
      ]
    },
    {
      "cell_type": "code",
      "metadata": {
        "id": "ot8nEsJLpK9c"
      },
      "source": [
        "stocks_return = pd.DataFrame()\n",
        "for i in stocks.columns:\n",
        "  stocks_return[i] = np.divide(np.diff(stocks[i]),stocks[i][:-1] )"
      ],
      "execution_count": 38,
      "outputs": []
    },
    {
      "cell_type": "code",
      "metadata": {
        "id": "pLAinl2CpVOX"
      },
      "source": [
        "expected_return = stocks_return.mean(axis = 0)"
      ],
      "execution_count": 39,
      "outputs": []
    },
    {
      "cell_type": "code",
      "metadata": {
        "id": "prKWd0mdxdyq"
      },
      "source": [
        "cov = stocks_return.cov()"
      ],
      "execution_count": 40,
      "outputs": []
    },
    {
      "cell_type": "code",
      "metadata": {
        "id": "yAI5CNFHwdvu"
      },
      "source": [
        "n_assets = 10\n",
        "n_portfolios = 1000\n",
        "mean_variance_pairs = []\n",
        "\n",
        "np.random.seed(75)\n",
        "\n",
        "for i in range(n_portfolios):\n",
        "    assets = list(np.random.choice(list(stocks.columns), n_assets, replace=False))\n",
        "    weights = list(np.random.rand(n_assets))\n",
        "    w = []\n",
        "    for i in weights:\n",
        "      w.append(i/sum(weights))\n",
        "    portfolio_E_Variance = 0\n",
        "    portfolio_E_Return = 0\n",
        "    for i in range(len(assets)):\n",
        "        portfolio_E_Return += w[i] * expected_return.loc[assets[i]]\n",
        "        for j in range(len(assets)):\n",
        "            portfolio_E_Variance += w[i] * w[j] * cov.loc[assets[i], assets[j]]\n",
        "            \n",
        "    mean_variance_pairs.append([portfolio_E_Return, portfolio_E_Variance])"
      ],
      "execution_count": 41,
      "outputs": []
    },
    {
      "cell_type": "code",
      "metadata": {
        "id": "u910bD_zceFo"
      },
      "source": [
        "import plotly.graph_objects as go"
      ],
      "execution_count": 42,
      "outputs": []
    },
    {
      "cell_type": "code",
      "metadata": {
        "id": "uiELh3Fl3I1p",
        "colab": {
          "base_uri": "https://localhost:8080/",
          "height": 542
        },
        "outputId": "558ddb6e-5acc-4cfb-e6e5-d5bb574175da"
      },
      "source": [
        "mean_variance_pairs = np.array(mean_variance_pairs)\n",
        "risk_free_rate=0 \n",
        "fig = go.Figure()\n",
        "fig.add_trace(go.Scatter(x=mean_variance_pairs[:,1]**0.5, \n",
        "                         y=mean_variance_pairs[:,0],   \n",
        "                      marker=dict(color=(mean_variance_pairs[:,0]-risk_free_rate)/(mean_variance_pairs[:,1]**0.5), \n",
        "                                  showscale=True, \n",
        "                                  size=7,\n",
        "                                  line=dict(width=1),\n",
        "                                  colorscale=\"RdBu\",\n",
        "                                  colorbar=dict(title=\"Sharpe<br>Ratio\")\n",
        "                                 ), \n",
        "                      mode='markers'))\n",
        "\n",
        "fig.update_layout(template='plotly_white',\n",
        "                  xaxis=dict(title='Quarterly Risk (Volatility)'),\n",
        "                  yaxis=dict(title='Quarterly Return'),\n",
        "                  title='Sample of Random Portfolios',\n",
        "                  coloraxis_colorbar=dict(title=\"Sharpe Ratio\"))"
      ],
      "execution_count": 43,
      "outputs": [
        {
          "output_type": "display_data",
          "data": {
            "text/html": [
              "<html>\n",
              "<head><meta charset=\"utf-8\" /></head>\n",
              "<body>\n",
              "    <div>\n",
              "            <script src=\"https://cdnjs.cloudflare.com/ajax/libs/mathjax/2.7.5/MathJax.js?config=TeX-AMS-MML_SVG\"></script><script type=\"text/javascript\">if (window.MathJax) {MathJax.Hub.Config({SVG: {font: \"STIX-Web\"}});}</script>\n",
              "                <script type=\"text/javascript\">window.PlotlyConfig = {MathJaxConfig: 'local'};</script>\n",
              "        <script src=\"https://cdn.plot.ly/plotly-latest.min.js\"></script>    \n",
              "            <div id=\"75f1f538-e72e-4f01-bf73-cd5e73f4bef5\" class=\"plotly-graph-div\" style=\"height:525px; width:100%;\"></div>\n",
              "            <script type=\"text/javascript\">\n",
              "                \n",
              "                    window.PLOTLYENV=window.PLOTLYENV || {};\n",
              "                    \n",
              "                if (document.getElementById(\"75f1f538-e72e-4f01-bf73-cd5e73f4bef5\")) {\n",
              "                    Plotly.newPlot(\n",
              "                        '75f1f538-e72e-4f01-bf73-cd5e73f4bef5',\n",
              "                        [{\"marker\": {\"color\": [0.527301712169372, 0.20541678206964267, 0.3259085222487404, 0.2871351082046538, 0.3318439552171795, 0.26893815609479965, 0.6046796620756366, 0.26833507075544727, 0.3354454880569867, 0.5052965542101605, 0.4078071869250593, 0.24900969413296814, 0.3464435920766949, 0.34352648421189247, 0.5108699108303956, 0.3267809798006022, 0.35873011452603715, 0.34383417575927977, 0.8648594464769996, 0.9046338160675189, 0.22133459789186233, 0.17937861699918373, 0.3899989186333524, 0.43750472846719285, 0.4942069347936443, 0.5703856466488947, 0.2673759784351475, 0.43311009464972006, 0.688168293654597, 0.4652784416921822, 0.2888139140225247, 0.48123544414513075, 0.1803576006397756, 0.2340441370204455, 0.3967696035868663, 0.41400948080648997, 0.31183557640582105, 0.33622588266011266, 0.5903355076274829, 0.48331621309065576, 0.31917929404609363, 0.23220555548012736, 0.27255621812074615, 0.2357877885567547, 0.6182140787003703, 0.31655986901811284, 0.3317179628999826, 0.17691644924616567, 0.9526914588561816, 0.25189465076425455, 0.23026597331188017, 0.5154604802595579, 0.3729278756646816, 0.30838711603915364, 0.5291325911658603, 0.42473097332968446, 0.3552450748506273, 0.4273621867098086, 0.4827488879174531, 0.26481045799433406, 0.3328633817347348, 0.7326358706944851, 0.6135202751886218, 0.2963115887639436, 0.36301961774652935, 0.421073203247031, 0.378130422535253, 0.382587189920761, 0.47070232892645714, 0.4608393726881714, 0.22037636946573091, 0.5427725302163654, 0.3520813243821208, 0.7112628169432759, 0.5375493868436704, 0.33488206860740577, 0.36653608927849357, 0.6901738243645327, 0.32624789899793083, 0.2882592653261198, 0.3437074884119973, 0.44060975396092555, 0.4142211854301629, 0.48171785025078423, 0.31071025071944663, 0.39595263853369106, 0.42972319826604655, 0.2936590021029376, 0.48579293078924185, 0.3263720446609379, 0.5174712580064899, 0.4058167926615034, 0.4071102948730077, 0.46411176559274814, 0.5339058705615503, 0.24675430244485877, 0.2886318409908649, 0.2926744905645168, 0.267665074548999, 0.4665649255412913, 0.2887395372807034, 0.45055127115047644, 0.3929060907688102, 0.32512236639579145, 0.3970874258296291, 0.2707995994755594, 0.3591593778717565, 0.456386335105648, 0.41961506408268123, 0.4989698780693792, 0.2780562007607968, 0.43680276423573183, 0.346853960762276, 0.49769814463244066, 0.27330880156374704, 0.2999430560098781, 0.4610254130686528, 0.3400924500109474, 0.19879704052180977, 0.37548222797472985, 0.447977187825203, 0.2957401903505555, 0.47023594778707223, 0.46885383967671806, 0.3367498948150479, 0.48672710329537705, 0.6558986777748422, 0.3172769084780172, 0.46519343077958036, 0.4589247678012439, 0.5057941804089927, 0.27641237151381687, 0.24182695677828542, 0.3326655700002148, 0.4052773792951051, 0.4699446688024023, 0.3244076534252828, 0.35879890639533346, 0.3605388974769155, 0.34870875494723635, 0.5621565405386644, 0.35598170015665687, 0.5876942630007108, 0.4938102428694822, 0.28344900421866004, 0.33041691943860385, 0.3935329209737537, 0.33440073269309606, 0.2894345086548483, 0.5423647489947165, 0.4197401806662142, 0.20074078695093012, 0.31026211603340753, 0.2774926625790017, 0.2944914919119606, 0.2727244851521401, 0.32360024870926113, 0.3176676321398099, 0.48606328928864717, 0.3247768385680359, 0.5162866874444353, 0.255555286141091, 0.35963431016399044, 0.5809904630139014, 0.3116536381850652, 0.43954001088716843, 0.38040649803064386, 0.20507124111962408, 0.5069981754454228, 0.3475173410044055, 0.2593618727585687, 0.4717784284893077, 0.26588904063803276, 0.38311445024940455, 0.14583100799969648, 0.46449775183417563, 0.24639580245348294, 0.24744894919777247, 0.3072101984198247, 0.35204672905816664, 0.6241001302723606, 0.14764146210082052, 0.3787469657052043, 0.37322747006152857, 0.4523548082265139, 0.3361885758209727, 0.4926670488419849, 0.4238074884035136, 0.4588833039431438, 0.4232875207370296, 0.37986029709456653, 0.30664466880559155, 0.2506004587215927, 0.4959655053796868, 0.35615207335583476, 0.594834566775993, 0.36753225091419117, 0.2043458728077348, 0.4794243982902839, 0.1409118903568072, 0.8865534884598871, 0.24820867215178752, 0.2188491622009854, 0.3492897165970274, 0.47084529679792514, 0.3285728545866388, 0.38701785248741877, 0.5409076069812786, 0.4791712523991584, 0.3462019349042733, 0.4474892775021035, 0.40165209837651955, 0.4617260298184498, 0.47579177743415924, 0.6505768247089078, 0.31145774741114884, 0.44748245303502554, 0.7101240766414592, 0.44952986454707183, 0.443805883224012, 0.3957294914447935, 0.2499419708614003, 0.40721558012181547, 0.31895493842434336, 0.2989302283743047, 0.3242411590870392, 0.39131283099594477, 0.5668261017515845, 0.4479463688246955, 0.5062522313780474, 0.5619359007633276, 0.49809252174668806, 0.3564413853332243, 0.7675939777797244, 0.377921278458562, 0.11531310710416894, 0.2880613538438854, 0.1952167577130028, 0.42822936092599445, 0.3719741805647076, 0.6858862758355522, 0.293347174193004, 0.4287098023825861, 0.36554447230926435, 0.33065518470124683, 0.3057066548617693, 0.5314361268964102, 0.315442617109516, 0.674016366510382, 0.37211243178813536, 0.29590198211994667, 0.5968275180069118, 0.46664579176164106, 0.6034585139697862, 0.4388191931650771, 0.26933362442739034, 0.32434931181598126, 0.326565528971832, 0.28702567624206105, 0.5338047069551632, 0.45328219703450384, 0.26079335236975765, 0.2948279897310209, 0.4520967893918415, 0.35703222996756173, 0.2807193005805035, 0.4201392521199124, 0.30864677525973194, 0.2772362743681555, 0.3897541560514811, 0.41954259073379857, 0.3537721762977158, 0.29815526559974936, 0.34483073238927997, 0.2547965816551704, 0.35035915520559796, 0.4671951963972113, 0.2118323264916302, 0.288868069594387, 0.15212477982430814, 0.12475253253100944, 0.49463042402416574, 0.43492109018664793, 0.25365492160786374, 0.4020903044833009, 0.35910954551690893, 0.35135231363202213, 0.41633114191793846, 0.34929704562053115, 0.3717218293662058, 0.37762552748534584, 0.1619958085326733, 0.5211478085422858, 0.3592568665763639, 0.4277395576321009, 0.37729905926362545, 0.28673308977261813, 0.3141167945001796, 0.5339912651923072, 0.4074291713095681, 0.4762057108291956, 0.4648334932692792, 0.2781851403033696, 0.4509333283231755, 0.20729081240908487, 0.23772592395974482, 0.338309198520517, 0.5730310070222473, 0.3482940178639289, 0.3914849570171945, 0.3794642808545144, 0.38300655121954197, 0.6737752328548541, 0.30685349280936614, 0.40920988031348476, 0.43458266558579495, 0.3780471870315027, 0.5378533907706032, 0.6834426806024523, 0.4729476470723983, 0.2743517505503039, 0.3511204645457125, 0.4517329997913047, 0.48524750703927005, 0.43732338180909963, 0.25824806105082015, 0.7514006700039675, 0.34195810944570865, 0.38751644750975667, 0.4203430607454781, 0.5099016149104841, 0.5746794522073231, 0.1839863088463956, 0.2721322287155885, 0.20192517854747766, 0.40062961930661645, 0.31213685028353677, 0.18876307112179402, 0.5444059187581565, 0.42455974944417, 0.22537975952471653, 0.476318327601102, 0.22527096456899987, 0.3771125617081722, 0.3413605761086614, 0.2756754625598877, 0.4430395872999283, 0.49078050569746706, 0.34671112058358516, 0.23149090332851668, 0.5181344239679412, 0.6688070995260794, 0.5131471692906692, 0.34720759141283297, 0.17978781037211125, 0.537840554511458, 0.18715210210252478, 0.607521990116889, 0.34147632692335855, 0.43362725629829685, 0.2724877179333811, 0.41640371873310933, 0.23504025550970964, 0.5338814651084008, 0.4046446403502367, 0.40499007668972553, 0.46815973536188216, 0.3105225838489494, 0.3501448979784651, 0.6472798232258272, 0.3845070692819108, 0.2675888254945272, 0.34983965064882555, 0.2566339111541852, 0.39169301757076613, 0.27330118229312106, 0.24274138548224014, 0.40747035428508704, 0.33803234674330157, 0.3719678436629986, 0.5206278400431502, 0.30308446605543754, 0.39398864268424044, 0.21877324712220036, 0.39223028175878216, 0.24713022981196509, 0.30098942867628986, 0.37683740835609675, 0.5788310886113641, 0.4078091102707951, 0.5015585890687917, 0.42598336976418516, 0.44772962818717393, 0.47015828612064786, 0.38165011079062455, 0.29978850106459415, 0.2922930587392234, 0.363670915912018, 0.4655371938672477, 0.37052326578516387, 0.34795610964737417, 0.49513116357255554, 0.37330048298787943, 0.25997926915328623, 0.4986061585146674, 0.5134334751735325, 0.4228797441831764, 0.44172123121106016, 0.35527179466120207, 0.5151712932398759, 0.518494046447099, 0.3812105567927982, 0.343019822852013, 0.35027561977184224, 0.26223189213982234, 0.4378632099315636, 0.32206003529892446, 0.38808932603699065, 0.39996104235782926, 0.3022290997073554, 0.3261618715481524, 0.4255108145816802, 0.3321051197617252, 0.2886021900725242, 0.35833547399867294, 1.0893121869716096, 0.3948336300961512, 0.5265748765304971, 0.6578425224404858, 0.35658439889014504, 0.3703673234222718, 0.1816663121906599, 0.27356327726171725, 0.45889265370538973, 0.7506497563513468, 0.1684433822546877, 0.3580659347030234, 0.467393302335786, 0.6053675760780569, 0.48774081730706775, 0.39262452615666477, 0.34800281327378935, 0.6653873015584831, 0.2879396512078472, 0.442259158962447, 0.4071564134708115, 0.44538308304432106, 0.19755743977948242, 0.4750926979508009, 0.29172706553157174, 0.5250272748763741, 0.2932532850831085, 0.3187229903232802, 0.4448988918093509, 0.32986199642369984, 0.3536708489368761, 0.5627669939207323, 0.38214945710061043, 0.24285696794495748, 0.672264148738899, 0.346328998071473, 0.5027298396000961, 0.36258126535685065, 0.4012663027281372, 0.3750860122355914, 0.3924976490061445, 0.33834069914405435, 0.30115721863162315, 0.2929314834262228, 0.4150861667051472, 0.3280683488121145, 0.4310414592698029, 0.3469573343786341, 0.4910111089584429, 0.5071556427010718, 0.27024346698007057, 0.231560500639484, 0.40601622048574887, 0.2558374327269319, 0.3827952743521247, 0.5522891981594605, 0.398134334254357, 0.3235434062945745, 0.2838911466342064, 0.3965144924779713, 0.18167151228823972, 0.3514192914194009, 0.28472257524248756, 0.7444633102826735, 0.20202065303401123, 0.4291713977450753, 0.27042850972755667, 0.19974403779204702, 0.38825178537599775, 0.43872674890426483, 0.451422942801522, 0.4383749329713032, 0.30896154832948425, 0.4881843594673738, 0.4913885923803785, 0.35148555211977656, 0.3369093892510284, 0.3502557035674987, 0.5081032878506146, 0.4899892532696993, 0.5132130106438723, 0.518449461485429, 0.47437113490289806, 0.4209421562841419, 0.37816744618103243, 0.2203784585536851, 0.24313258163660112, 0.3076229802202902, 0.32773798844439794, 0.5200033506650787, 0.427141575265102, 0.4055118956381524, 0.4873645205843425, 0.2618881865451034, 0.3022097497241602, 0.6056898801819024, 0.2733099631071675, 0.5089170430425953, 0.5161079960769053, 0.3749449708603283, 0.39012985463301225, 0.31924778156990163, 0.641980041328827, 0.45409962075240434, 0.30378567131381173, 0.7915137548191027, 0.3809553462956427, 0.367885477790626, 0.3087959732936528, 0.5696533302008814, 0.3473132232193328, 0.31322265750815637, 0.28984957106428083, 0.443603313957589, 0.3339580613295617, 0.15323742572958116, 0.33000868388793486, 0.37608310876593404, 0.2783932095723097, 0.4460859006312445, 0.5965630465428244, 0.32201720120950067, 0.34748874842697947, 0.3757777989734587, 0.4568956595716633, 0.2776274710601516, 0.2792268081583205, 0.2369479697638066, 0.34182552481837764, 0.44865429970864296, 0.4527003329689985, 0.3388640007552643, 0.39566542377865216, 0.30798868723724326, 0.42583126219368983, 0.5155275211073739, 0.3834614352833234, 0.38051694672948744, 0.48810586531947403, 0.45499713429684796, 0.33921106945955093, 0.4575653109564674, 0.9502667232633443, 0.40059834448522225, 0.2905416078096102, 0.09105690415597745, 0.3655405184280891, 0.15846909363326142, 0.714727921466546, 0.3545771187391637, 0.3834945382199632, 0.5486104691405808, 0.3370316535037165, 0.24173199296710712, 0.5448448847086256, 0.4894731522942687, 0.2328990605304167, 0.05152770011504942, 0.8288388077466136, 0.5486731614179501, 0.37443384727745177, 0.3794545090308295, 0.3189206565962826, 0.5123034456479703, 0.3071185580224006, 0.3582505705335397, 0.30064907949197184, 0.3624737118822461, 0.3753093316327582, 0.3254016017790031, 0.31532968139578954, 0.573112619860847, 0.502541075528633, 0.4047208442399227, 0.5991411636700796, 0.29388962727778656, 0.26091465681088044, 0.42418575161611777, 0.39748134449607603, 0.33486388665160843, 0.3193826463244535, 0.3373922672155276, 0.32046528948678454, 0.2876157613451146, 0.4004002499855701, 0.43415172143459446, 0.4122523824360635, 0.26812610715599305, 0.2238899272066069, 0.31497684278279525, 0.48719002152568824, 0.5960220684813402, 0.4544849157623983, 0.2563603423542812, 0.42860188716169084, 0.22754849909980315, 0.251983500795964, 0.6725962193980883, 0.4236490936451797, 0.39183652727911283, 0.35439338599110803, 0.31445694957189924, 0.4436735973038828, 0.6644678308278451, 0.11409424918589264, 0.5460834406152754, 0.5355654745178051, 0.21946093924581753, 0.4645894380112653, 0.409771332718442, 0.7782265606352957, 0.2319748048976524, 0.4126644668502286, 0.4784426043862915, 0.39794113347366367, 0.24321297353048835, 0.4480342895604679, 0.4487735131966233, 0.3494754833777383, 0.2935259414925549, 0.5146759633156135, 0.6178349966389594, 0.45192628232999615, 0.47287807970127643, 0.4369669608411722, 0.3675489317125704, 0.23369158637070553, 0.33885441939471306, 0.401371301332955, 0.17145011822692854, 0.3353119518053806, 0.19921661474017227, 0.36390827069238485, 0.7927628209661057, 0.6556456470543244, 0.37872283258651873, 0.4769606746021997, 0.2601258484318733, 0.41931867693445635, 0.32497168574496554, 0.19363121308640224, 0.5137635156897291, 0.48804669580358817, 0.34967943819649944, 0.21320641694416753, 0.44312599262213304, 0.24362059393420998, 0.2910896757276856, 0.37779098094856167, 0.4541287276709746, 0.2771941670552186, 0.3812005816730103, 0.3645021870051817, 0.2987008194805502, 0.20823545689282458, 0.32935593579232125, 0.4603838667436628, 0.36251240501402643, 0.7663898157930632, 0.3969133587010822, 0.3084383420257927, 0.3858135843421702, 0.20300742519928774, 0.37850925185416634, 0.29798088113831117, 0.24842801555915184, 0.28752158029685726, 0.4584228067426202, 0.2598443176415481, 0.5762523966892769, 0.47512324656615795, 0.5067863008977853, 0.26820522335828867, 0.3829497930875679, 0.664844629403663, 0.4334088361681515, 0.5138910055222558, 0.37177719441083645, 0.310312730254635, 0.5129063952189277, 0.41205878720331185, 0.36859166612393657, 0.22233348008936107, 0.41273799970268854, 0.24781180254387064, 0.379146221687449, 0.30638905429235586, 0.33636140145286375, 0.3519071388229613, 0.36736725301453454, 0.24108089421312595, 0.39381143067719976, 0.512626494495704, 0.4243705195044561, 0.40717512791535543, 0.5899450460528527, 0.38366882466261276, 0.4029338255549618, 0.3865428690845795, 0.4255158983659165, 0.4210906338057633, 0.11201130903226425, 0.4411538097401977, 0.4465480008101718, 0.22884572557620422, 0.3969837911312035, 0.2583479198957165, 0.44575293726057513, 0.38813609581144526, 0.44403887663772684, 0.38230217272234734, 0.3189723069489155, 0.34957155911978544, 0.4532382941507704, 0.33734645543955416, 0.42125761225499003, 0.33892805775905416, 0.3101576678194, 0.364218613831877, 0.647679544216637, 0.42698376725770365, 0.3931282374192754, 0.38013735012746347, 0.35620305729183843, 0.35597194849906716, 0.2149364004211071, 0.3482277494361495, 0.3301086369102273, 0.40867637316226624, 0.3042921358089216, 0.2920588402374111, 0.5479573476811783, 0.4573702633521963, 0.4853763215125488, 0.3450448413144065, 0.38157517381624334, 0.5287659573768714, 0.36356140725928016, 0.3895501036890801, 0.34574945940830937, 0.39454083840723164, 0.503146260809945, 0.31811900199669557, 0.4317709241733189, 0.3288721860116557, 0.7558452257785749, 0.3307584397928763, 0.3166726642099196, 0.45456252644371276, 0.3187273342516227, 0.45151887877722713, 0.5463878322441915, 0.2774372216263542, 0.5479651069046704, 0.41691144996852225, 0.36571244781319623, 0.7834297961985234, 0.3240548491720286, 0.3805285165678285, 0.3589524962578331, 0.2998564338043607, 0.37426042060880127, 0.38345793024916497, 0.13029175752311045, 0.40087978568675986, 0.43321497327435027, 0.3974401412095875, 0.29718292696624116, 0.18235125323953535, 0.3516371109449022, 0.39189963050226134, 0.4380812363795581, 0.39749042751293273, 0.3020741566469455, 0.3165332431555271, 0.2322398823933328, 0.3139969304283085, 0.4622888445895148, 0.466942803257254, 0.5150879227703197, 0.29697766374963736, 0.355440355414572, 0.29460490809469814, 0.3326481752876851, 0.36432708203402536, 0.24708636617182592, 0.43364027672368666, 0.3772209336368978, 0.3820012503428363, 0.4347374777180843, 0.29090642384502563, 0.42668378885792974, 0.2401444798815402, 0.32797454742021814, 0.568124817962597, 0.44416988017153736, 0.3948204364949036, 0.4032095401579186, 0.6573884625369223, 0.5012033206166882, 0.29390906860201627, 0.2809919636482594, 0.3201355677734867, 0.5067115067673168, 0.6656151819539684, 0.5512600829476941, 0.3547185396951548, 0.5942096630496072, 0.2874329682907221, 0.2749296147755447, 0.39352710630317533, 0.34173725720514686, 0.26844799814401066, 0.29164587284754484, 0.1333137214999354, 0.5032037567432712, 0.31300799644838556, 0.43845291707001066, 0.2921344450110146, 0.3151478286773778, 0.4873087730117997, 0.36205895594216464, 0.3061353783921064, 0.31992733383228295, 0.4783301489654054, 0.3602758240075126, 0.3096419611722139, 0.28225551231441043, 0.41823601211661904, 0.4601555386795469, 0.5563054528877798, 0.5400971658203244, 0.4365227461840511, 0.31490796914497293, 0.3799898350561372, 0.2626784602720012, 0.598223419192986, 0.2781132228494982, 0.4065190374658298, 0.27714004926468633, 0.2528850718192321, 0.36374517446642407, 0.42326998676463123, 0.3379385463553504, 0.382935621196711, 0.2791147599392381, 0.4489838582683692, 0.5092558399683015, 0.2909973251204758, 0.3743395160854757, 0.3020921606217837, 0.23177308793989335, 0.3990204472406961, 0.48146886016662394, 0.46041088862146856, 0.36066328618601906, 0.5047280529623743, 0.3139571541251567, 0.2601439644701654, 0.33139317803385065, 0.22397491100257622, 0.2171619191119669, 0.3213180447930192, 0.3161285155611514, 0.4518805683247109, 0.4554923896392396, 0.11798186513002276, 0.34175142968105854, 0.2525684179959744, 0.2631963176245606, 0.25935841158697986, 0.4092738002436701, 0.4321017551415285, 0.3062378091114434, 0.5109931288976903, 0.4600482207008061, 0.3231428284211847, 0.5101480705332146, 0.4059405804321652, 0.37436061083196454, 0.26152620386234415, 0.29882146508329605, 0.5839140010234294, 0.6956367709880628, 0.4963052679185554, 0.4246445778852264, 0.6525208281810263, 1.1001522252282085, 0.19299572708386722, 0.4797331661076574, 0.12953344400714256, 0.3242649609697776, 0.2963021982913875, 0.37493404029259636, 0.2890510514481244, 0.4042628873201276, 0.213766936068846, 0.47126052214144576, 0.6458635551349449, 0.407421257951179, 0.4495945631261752, 0.3559076847617586, 0.4984997370407431, 0.31548828548534, 0.5348222529383976, 0.743687511668279, 0.2964057387162354, 0.2615846546615398, 0.5248832893265702, 0.3782323584778487, 0.468896358711137, 0.35355984421105063, 0.4144415813970319, 0.37908543095568986, 0.2723392164936639, 0.32430392038540684, 0.3500840021821332, 0.3176009527876624, 0.3933701260987742, 0.427370770918845, 0.6128546451334469, 0.6146327584771648, 0.31161272309072924, 0.4178445721206845, 0.4870795549491896, 0.3478496944565151, 0.3723899524369502, 0.37017691556825877, 0.3674432807718779, 0.3257002417690142, 0.4037528011020532, 0.3779602716201447, 0.5563587635499272, 0.3732106113413424, 0.3980807893007852, 0.23074264752486942, 0.23196280681524203, 0.29853534189778536, 0.30033638818783226, 0.4662764454021908, 0.3777283034545136, 0.49091645296985703, 0.26810405825415584, 0.5290883635999133, 0.41863724108897227, 0.3114434942534265, 0.3436275176846854, 0.3867167822988646, 0.36849560172649676, 0.26765427961341187, 0.39451113912286345, 0.4877564229079809, 0.3079739240290198, 0.4752968648597254, 0.4262911556150177, 0.6791279965620082, 0.5315479031786967, 0.24640995652312228, 0.22269331473752205, 0.31675444263068137, 0.33458300132750013, 0.6748493436676838, 0.3573370242310497, 0.38433224062701027, 0.28216944478912775, 0.4932119063028722, 0.31986504385306147, 0.36642924180209535, 0.25962720464560246, 0.2856321248912268, 0.36177440558474155, 0.4580376284016402, 0.5562571512509665, 0.4081199149807322, 0.5190655459176925], \"colorbar\": {\"title\": {\"text\": \"Sharpe<br>Ratio\"}}, \"colorscale\": [[0.0, \"rgb(103,0,31)\"], [0.1, \"rgb(178,24,43)\"], [0.2, \"rgb(214,96,77)\"], [0.3, \"rgb(244,165,130)\"], [0.4, \"rgb(253,219,199)\"], [0.5, \"rgb(247,247,247)\"], [0.6, \"rgb(209,229,240)\"], [0.7, \"rgb(146,197,222)\"], [0.8, \"rgb(67,147,195)\"], [0.9, \"rgb(33,102,172)\"], [1.0, \"rgb(5,48,97)\"]], \"line\": {\"width\": 1}, \"showscale\": true, \"size\": 7}, \"mode\": \"markers\", \"type\": \"scatter\", \"x\": [0.15334136940235973, 0.1528222420188119, 0.20378637194403118, 0.19922682956853838, 0.14217726021714594, 0.1780165795718247, 0.14137198063302261, 0.19304658092185198, 0.21078057071227058, 0.12891237301886177, 0.19753246020212098, 0.13641821318710934, 0.2079799955684175, 0.2128198346225687, 0.12129021139456483, 0.17897304880813836, 0.17334487183983888, 0.1736229877288662, 0.14855711000546626, 0.1337178357538563, 0.22260929361646933, 0.15525637515373852, 0.1458977389594379, 0.1662857296847344, 0.16198512307059224, 0.11828535724934448, 0.17645670134303337, 0.2719465550177639, 0.09488300357417756, 0.1837526713408825, 0.20649081447309778, 0.1425551175485283, 0.0761224314389402, 0.15141742034915365, 0.189847248851819, 0.15434790543245666, 0.24974968920296953, 0.17192192436401066, 0.13666266268215266, 0.2060063026181319, 0.18543651224668753, 0.2134948120892133, 0.1308864724802102, 0.19208386265953162, 0.1579055371636583, 0.20197567278072653, 0.17389250864602726, 0.2051798233244009, 0.08774223927643074, 0.15484752229231696, 0.16463506218896437, 0.13170399461611276, 0.15026873008327638, 0.2205886827911867, 0.10931653520966644, 0.16854476726874223, 0.1963346141186648, 0.16464729213643794, 0.21861569632056782, 0.162947620306341, 0.17032304514262164, 0.16444829334530553, 0.10082159472658235, 0.2041293721596063, 0.19137898916404988, 0.1296017937089373, 0.19796793895182496, 0.18342656453318246, 0.13927820597593557, 0.14811118717299124, 0.19815443969915544, 0.11786568374781342, 0.21946684305661454, 0.16509995748773976, 0.09996991064094991, 0.1743954363722079, 0.1835526437023668, 0.07587935401134412, 0.11972652734728961, 0.14505823305413246, 0.12412305420176989, 0.23160608595782411, 0.20440951922847572, 0.18068567055623716, 0.14902503061091954, 0.17834984700991605, 0.1655631772397777, 0.19065149801007242, 0.16596639530393661, 0.24457679608409522, 0.15202766119945663, 0.15613695823326373, 0.1850088219055449, 0.15882819671157594, 0.20930935461039282, 0.15990243905678414, 0.1718313225945649, 0.16068227760672674, 0.23520341368768377, 0.17992611027369293, 0.18215689853468728, 0.16918846858792927, 0.1792420301209204, 0.17283065362868627, 0.08871228680518156, 0.18426850605787407, 0.11455016520143012, 0.16296806548069526, 0.14775924900154783, 0.09820350734593794, 0.1677037719444563, 0.15026204117000172, 0.20654718467961072, 0.12162467632385174, 0.20375892609653742, 0.17615745617340262, 0.1336892551372164, 0.1726394422514427, 0.1942033138387941, 0.1746850069577673, 0.19257202668988674, 0.22183322385873805, 0.2001784465931882, 0.13751930883390784, 0.20219921660528034, 0.13254577747246643, 0.11607261981345757, 0.23775261770918618, 0.19626310827294058, 0.19874037728227084, 0.15045557221997066, 0.18239824171974936, 0.17846080712379012, 0.11850904718084455, 0.11612833408871705, 0.2263418219916638, 0.20704959555788657, 0.15741380881347058, 0.15772173398690453, 0.1566179088209425, 0.1672708996607487, 0.12414892483485668, 0.2312838049809742, 0.1927879112308175, 0.18265583800913654, 0.19371293060443295, 0.1764658218167774, 0.10764881310545416, 0.15524709233725764, 0.11323968880598084, 0.20589363814059028, 0.16157378351737722, 0.1706200771799457, 0.17625191039043894, 0.1300241456901778, 0.1756683445961144, 0.16834466970055725, 0.15573055264790764, 0.11392255727996406, 0.15999043850157302, 0.1584532396035312, 0.19455294550054913, 0.18372023090044481, 0.17582833380186852, 0.1866280841394569, 0.18805710674862997, 0.15781701497738654, 0.17941101747189936, 0.17016854042950952, 0.17454573474046664, 0.20021779117874763, 0.1615335740075751, 0.24325229525527584, 0.13632904845983806, 0.1542617339202792, 0.12971681088076809, 0.18069004994982904, 0.19270284346103322, 0.1280916119160801, 0.19848497278115165, 0.2020900454822113, 0.142678155336826, 0.15184301665262387, 0.16971808341991637, 0.20106162788983542, 0.16718079869032654, 0.12628510112134697, 0.18890021240378224, 0.19617279198794088, 0.24065496319802965, 0.1882305515530335, 0.20529802765935254, 0.2080730219805092, 0.13038292584564262, 0.12570199726149506, 0.1284810245540731, 0.17254275229094743, 0.22192341023442952, 0.14540137225109992, 0.1916356299466649, 0.08279645331263737, 0.12801208507202477, 0.267833570876185, 0.1532189512048596, 0.23014020915903713, 0.17218702736056082, 0.14554231983927518, 0.17297985502837576, 0.17899072747590322, 0.18868866284171612, 0.13425770553732605, 0.13924664521938476, 0.17818348108555523, 0.14515016405467343, 0.1066885901453037, 0.15741371946513885, 0.12772646460851733, 0.13924279927874303, 0.10631654602715394, 0.14927629330610853, 0.1815951545759837, 0.18703152108604088, 0.15484039292806753, 0.1807400443972806, 0.24706430160537834, 0.18271162653568476, 0.16139880550327, 0.14125446713135822, 0.2208411399078203, 0.17054211879853065, 0.13882184202477527, 0.15871598576608673, 0.13954170416859485, 0.18419905660555697, 0.17245179515790726, 0.1950407860154706, 0.2026762833744101, 0.15847183195755044, 0.14309499109627438, 0.15759935736916506, 0.2171751017022968, 0.2022758435471089, 0.19881988628711625, 0.18812269165286533, 0.2194742715173754, 0.15763448919248815, 0.12434244593936516, 0.16437708466057913, 0.1822875433523029, 0.16103885204573293, 0.21918274180008615, 0.1646512428851549, 0.14824244057781338, 0.14737551839720747, 0.156357344902028, 0.19309012378536555, 0.1418501969911952, 0.1815785777592622, 0.19818798868088308, 0.13444276495866234, 0.14992378539807127, 0.1800241466263435, 0.11935581774591729, 0.1539328854970532, 0.12472746580844121, 0.13850953833087543, 0.2166375615624082, 0.1530548824883104, 0.1784323849352594, 0.15273006817434395, 0.19509151107090086, 0.12280990978851676, 0.19249168164190752, 0.15294826657036914, 0.19270677939766095, 0.21951399017305598, 0.1756626643463248, 0.21352806471687386, 0.13398219783699297, 0.15282040316246395, 0.19939091373107265, 0.12645923875093742, 0.15320782480097975, 0.16765757890898222, 0.14687006024573, 0.14125617541146532, 0.23562048036264757, 0.2060211638960653, 0.1829765452118124, 0.18655068866234825, 0.1553865506386333, 0.15710171237247436, 0.1441919797950368, 0.17361820084775395, 0.19722104584305572, 0.19923179781450404, 0.23689237409488031, 0.21346608881620197, 0.11738059822682725, 0.13795532227999985, 0.18334917252184077, 0.17488338845615836, 0.1446252133133223, 0.13108212778231368, 0.21220138560719257, 0.17314718589060718, 0.14021255526871057, 0.20438883386797813, 0.22085473254996169, 0.13735074932273786, 0.1818337007032084, 0.15976335080359064, 0.24151573634322773, 0.15745731470179908, 0.16878494006935335, 0.17117401200206406, 0.14015000125112367, 0.17527413980988882, 0.1690777300972609, 0.09657932130408432, 0.18343493721663545, 0.15376142164242948, 0.14420396696715188, 0.1694721256526135, 0.20246631274658994, 0.25538422994710974, 0.1632245575508218, 0.18582807447659164, 0.19141287831599563, 0.2223711364824491, 0.14241220431493642, 0.15798449824969857, 0.15896771742241092, 0.18471103507782244, 0.19304410603396585, 0.1506398089705808, 0.21300955393988985, 0.199907077309169, 0.16738406410929507, 0.15805937931421954, 0.18809876709130996, 0.15694983560797351, 0.19674466219451223, 0.16904829090986087, 0.17120906372646824, 0.1313177093651461, 0.16736113024874896, 0.1572674974294839, 0.16842835584765042, 0.2011115654997247, 0.19171250281805122, 0.15157873363212007, 0.2191727423353281, 0.16352205771381212, 0.2165530201994572, 0.13652570196744465, 0.21626410203242716, 0.12797788761824042, 0.1872188678809182, 0.15043685421842015, 0.16604085290033047, 0.13666519859653756, 0.1544894095709229, 0.22594832943505688, 0.13671094693963343, 0.23492846040500365, 0.23767296467267326, 0.16097862801552998, 0.16350350803991093, 0.12707895617148302, 0.16818606229770308, 0.10381654018757601, 0.19946915454512262, 0.1468592195657602, 0.16136878112979067, 0.15890669796275161, 0.15126687679473488, 0.16435065948836328, 0.19115372512627624, 0.18916680520010393, 0.18276198936135768, 0.1567656545971409, 0.17571852077423147, 0.16796727633172473, 0.21922377714545077, 0.20788359054461344, 0.13142751426282193, 0.22396670664644247, 0.11937271875348798, 0.1511549726877234, 0.14772592406475962, 0.14496601200238066, 0.14363272333856833, 0.14676369590361962, 0.10385149687979649, 0.15162076786149226, 0.14688400919031516, 0.14726395331866163, 0.19182292378623858, 0.18691182963603847, 0.1429381477491371, 0.15933506973726913, 0.16509418148814684, 0.1669453957633029, 0.171218416358242, 0.15184981949854698, 0.1444539682620752, 0.1839555298394461, 0.1761858671999771, 0.12171954267911181, 0.1750245579997549, 0.14370267567512468, 0.19013269653329978, 0.18954354894232084, 0.14073060871161494, 0.23656974196580974, 0.1671879865477809, 0.16099260990583697, 0.1576288629546329, 0.14021856214488107, 0.14076756879813102, 0.15831918610076978, 0.17727920669732297, 0.22237542742020514, 0.1488409160727973, 0.09669013778596922, 0.1545632893842695, 0.11015648280309176, 0.18275946310977448, 0.14728866140275876, 0.1258482415987371, 0.12693880488127116, 0.17681307353181783, 0.15510885689265977, 0.18449546073166817, 0.18195925677916874, 0.18431586215589563, 0.16196002454341135, 0.16178071197861976, 0.14452262166605567, 0.16908232003852605, 0.14272944489306116, 0.09482498527340422, 0.18013279610210173, 0.12897690247799304, 0.1686500863865165, 0.1947974099020556, 0.16069873178485475, 0.21126146819556949, 0.16797995285013084, 0.2558879995441752, 0.16064419986664055, 0.19372302629676755, 0.1702476971908818, 0.15263822511604166, 0.16553388170457567, 0.09006698302049657, 0.1651971304877286, 0.1576509668504634, 0.13985542404604606, 0.19640588974284715, 0.1145133079558241, 0.1373919085936194, 0.15074798118867597, 0.16002636459225103, 0.18179089549647287, 0.1137676281878229, 0.16149543708764127, 0.2109412188638632, 0.18878446045254788, 0.1605777649955085, 0.13986644838295417, 0.1790861649061097, 0.21239424111759067, 0.1815329784267543, 0.2009221266938562, 0.14530392626454777, 0.24735487543240003, 0.13125109842871127, 0.16644181694576937, 0.18627420987803253, 0.12615772976689912, 0.16088906152918447, 0.18678019277457505, 0.1739632431833064, 0.19245747085732523, 0.15463465792003397, 0.15530439331443077, 0.15502613027926615, 0.1997686269362071, 0.21977322123266654, 0.2036685973215049, 0.16665522124765447, 0.13205338411908035, 0.15415987009842155, 0.20341157039127866, 0.12591948244614998, 0.17910030384108067, 0.1964922853575491, 0.17117393430774197, 0.14973554107772977, 0.17015426694989766, 0.16166355837891933, 0.15117598992364226, 0.18455371140524945, 0.21640597787240698, 0.20448213797303783, 0.1548389051391676, 0.17945488121436998, 0.22000479508275367, 0.16841825821007275, 0.13936243768763631, 0.1689737296292122, 0.14914673312165572, 0.1047027338143382, 0.1580997551570146, 0.1780444630655977, 0.16058267029662418, 0.18124049396980443, 0.16908970271216087, 0.11065477237607106, 0.18207233471639406, 0.14409733881927464, 0.16949836855620187, 0.1967299269468633, 0.1463499176746043, 0.13401601355395046, 0.10733367750313412, 0.18929124499371394, 0.16165621165352193, 0.08385323827935082, 0.1757874506229202, 0.1260193150569614, 0.16555374891976432, 0.15052888569267045, 0.19475679148376335, 0.15930274310482745, 0.14396184698833528, 0.1374572539013085, 0.17375487759519986, 0.14545483211496044, 0.2327524907532585, 0.18306455543490052, 0.1870336050833052, 0.10147789717651205, 0.15987336528404514, 0.16111773703165105, 0.13609269737599833, 0.15353413863979462, 0.15851303195879787, 0.26522720864423793, 0.1718901918524032, 0.14828899395603004, 0.16949648204443732, 0.0775164218025084, 0.1633782515492375, 0.24664859094517097, 0.20767963307310341, 0.18683888396191098, 0.1728144487028933, 0.19409746380825937, 0.2405659692771973, 0.18435963728727342, 0.09053973569737639, 0.14765835175693792, 0.1763417901569378, 0.16347724059298516, 0.1648885600406014, 0.12806648568440795, 0.20696612968988898, 0.19742584327345322, 0.259050201993413, 0.15463841145904123, 0.1566740868222164, 0.14255515475196576, 0.21361949294071575, 0.09469679773791853, 0.2482122286699926, 0.17679006162382324, 0.13004487079405982, 0.16361951067280556, 0.1499118487853195, 0.20614349213726696, 0.1458663906309839, 0.18277266489766703, 0.17678306892788123, 0.1466717155498222, 0.13795162874536945, 0.11549473858023857, 0.18056738138978906, 0.1489747641520358, 0.17493251654696676, 0.15118423092445119, 0.14273789297472453, 0.15276934048785668, 0.16268192926720834, 0.20942655332540056, 0.1467912575316986, 0.1907710189575574, 0.18266241220317245, 0.1780529409012842, 0.19544907193747327, 0.1379794152560114, 0.19686970021707956, 0.17620745150038972, 0.1524154491481765, 0.12944521315850346, 0.1771866515341992, 0.20854815839008511, 0.16386137928909417, 0.12706838142445373, 0.16811756734986436, 0.15805670958386267, 0.1399806564634752, 0.1803525949234217, 0.13972159717891025, 0.189983355842399, 0.20734663832648606, 0.23862420388688868, 0.11441458641425896, 0.10941259346837881, 0.17794907689999861, 0.1903545154620034, 0.15236223130932844, 0.18627568073007164, 0.1914737337407137, 0.1986671997640559, 0.12881332335111162, 0.09552114244157137, 0.18628246869801568, 0.11974106477198183, 0.1953158343218807, 0.14477169112912036, 0.14817588956133984, 0.20552474902196574, 0.14891727484610126, 0.15689274373210219, 0.15924106945061536, 0.17701547281577915, 0.19866379186357083, 0.1648704700352138, 0.1587810060188364, 0.21841428574903218, 0.15403812882024073, 0.14960708638283066, 0.16364279708260646, 0.11312517898517395, 0.15663745652362873, 0.15646925743439707, 0.16735270644027475, 0.14483978516655602, 0.15631722301813242, 0.14634859771541534, 0.2147516466171008, 0.14271319269314506, 0.12234041159238912, 0.14865361785711287, 0.2039353576397999, 0.18840969352891118, 0.1360237500184125, 0.21566102063504858, 0.16728232383663239, 0.16418746949137591, 0.1775159691767765, 0.18986904644516078, 0.21809652468365426, 0.1797874425504302, 0.18705902249561304, 0.19291179316208, 0.1433818870099645, 0.2004530881901487, 0.19433906478502347, 0.20105392689699228, 0.14867414246261107, 0.1666330130129684, 0.2276609718686044, 0.12397462253082009, 0.14512374392322747, 0.20505338915757165, 0.19753378848066697, 0.11283966265570258, 0.14911061528564049, 0.20563357278567904, 0.1972485959669071, 0.11217427560205057, 0.1954208710585154, 0.18283243798208393, 0.19628719388347546, 0.1510136275190434, 0.18284446663277848, 0.1768375182900191, 0.13599940013667547, 0.17843075522108112, 0.23899896156528966, 0.19583358537352652, 0.15846408979870294, 0.09488550416228658, 0.1607912584335005, 0.1539505470836219, 0.1382961695078079, 0.16325950085535554, 0.12122992447503003, 0.15459053785216503, 0.16545728024570144, 0.16128769407534674, 0.20514014346902026, 0.16677612561536645, 0.21741274405195898, 0.16194759133871953, 0.13682274917287685, 0.18246321554969494, 0.13877859094662318, 0.19742866962061453, 0.19342775239607313, 0.11613507143951307, 0.18577585807295424, 0.1673222286621681, 0.2161713545755439, 0.1406636652914051, 0.19922051672740035, 0.15718922662305745, 0.18916581967168505, 0.12428564500870708, 0.12734229207111314, 0.20447719202825282, 0.17955504260421973, 0.13458276339568973, 0.16712013760155062, 0.1734042544211634, 0.192414197270857, 0.14736130078033038, 0.21569773332270772, 0.1317034866444873, 0.2136727795515417, 0.1399682547263128, 0.19076386287598707, 0.22658500494791808, 0.17734035636478654, 0.1447810417259214, 0.17282736033535057, 0.22778497572304454, 0.15117327711439027, 0.14350645877575863, 0.21770141674485247, 0.12029011153350787, 0.2008004431500214, 0.20223125718342508, 0.1779211825179073, 0.15340105629489661, 0.18080568189874108, 0.15997341374664162, 0.23922290068991062, 0.17422646514975118, 0.1619981333347115, 0.1786041869049035, 0.21046264129900633, 0.13893547782160162, 0.1397292355159872, 0.145242461984764, 0.2170371668842513, 0.16153030161796594, 0.17583841623947277, 0.12805115935206385, 0.22220261001380714, 0.1368151718960366, 0.13572372343003497, 0.1237481021923883, 0.16140417094857068, 0.10694222623418952, 0.14828126068053737, 0.11033926086468333, 0.16284537247328662, 0.17302084607661367, 0.19199007214697025, 0.20496081282844503, 0.16189836905526164, 0.1640663163562029, 0.15876009632929924, 0.18541601904079807, 0.1693092117477651, 0.16161539387005242, 0.1980275267864232, 0.16221600417820278, 0.14260298582646533, 0.1545307509937416, 0.18179656904351066, 0.15567185423558752, 0.1666741943359377, 0.14814389604724884, 0.10227218892256147, 0.13395983018696261, 0.192600197763823, 0.19684290228206328, 0.1889395243171825, 0.12892710882718, 0.17020710707964168, 0.14715533837439462, 0.13940986968139335, 0.17033405310431884, 0.19192185659151176, 0.08868139386927491, 0.23294812566528705, 0.17587380757790025, 0.13515192345078975, 0.14307632261630196, 0.15834415176903938, 0.1599384447635628, 0.1857601856140874, 0.13954511673136874, 0.13658759634515533, 0.19967209249853166, 0.17558361581752094, 0.1442184940801003, 0.16857901708549458, 0.18814752089160514, 0.2671030966884342, 0.16788165195652058, 0.1889656076420068, 0.1433815864891989, 0.17380790021430645, 0.24346973039592268, 0.23326975529840174, 0.15592955715477078, 0.1110076484815946, 0.14538014807950816, 0.1441856301400743, 0.15824478520274518, 0.17908738204979271, 0.21723484722356223, 0.08075019228839478, 0.1314128739108208, 0.17374317151921245, 0.15356148070135897, 0.21490366876389072, 0.1635707091520074, 0.13102593116365457, 0.22707574264082658, 0.19271404404754175, 0.15081590117566152, 0.18615362714379205, 0.1708975035431857, 0.16020516134320625, 0.14142888074828577, 0.18495646121572912, 0.17571865461184857, 0.18128836713712168, 0.24119888931239844, 0.21662516618395625, 0.1536120987823758, 0.14207913805624744, 0.1824288357218925, 0.2239953563238063, 0.19376835767397954, 0.15856948916112643, 0.13999867625556897, 0.1738909223381673, 0.21047435648415544, 0.13952350437569433, 0.19046435735448453, 0.1481579288053922, 0.1930859811437994, 0.14247017196882356, 0.20408198202339967, 0.1879601690015639, 0.19533098709663252, 0.18490182575664688, 0.17674442697121323, 0.21919988623892384, 0.12746717276701053, 0.17437680678514988, 0.1818366756616778, 0.17955926446057716, 0.19716914018410395, 0.18439070639597246, 0.1806276218404877, 0.22139112291202717, 0.1575121866678685, 0.1457348854307725, 0.1370931570707122, 0.18900905609592514, 0.17775361530158434, 0.1627525982680622, 0.17163835802261587, 0.25093867490078436, 0.15530771798601012, 0.14835063454614203, 0.14010776006037018, 0.14937070961731122, 0.18573331261665502, 0.1960250411249623, 0.2917759409248232, 0.21591577948655277, 0.15817115028550074, 0.1663353788760613, 0.18744596443778136, 0.17193089376066287, 0.1552602231233083, 0.18108897341100885, 0.18225200277207412, 0.15608422563422286, 0.15349103049410992, 0.18836827036359083, 0.11479145473546516, 0.1737489122549755, 0.2173144474993493, 0.15340440110634782, 0.17374826101015425, 0.19008951491830545, 0.13393576251616618, 0.11611035909625, 0.14670069787310633, 0.11709465212311111, 0.16867687460790068, 0.12595590733152529, 0.13310151829660158, 0.12642211006538404, 0.21409811889799427, 0.23947083230822253, 0.2270082866590462, 0.17030074125355102, 0.18957703450253804, 0.14334517971263677, 0.1906221160148985, 0.23744550043551718, 0.19711339998114769, 0.13409102129907013, 0.1640297813490511, 0.17353925857598698, 0.17266819257863658, 0.19857144413368108, 0.11326473977301166, 0.2048941647622879, 0.1894674935055479, 0.14016053843639092, 0.15900765440532036, 0.23964884805246395, 0.18453319401353843, 0.11402030281443888, 0.20577545408453907, 0.17330559141446067, 0.21016716440602518, 0.22154335805013586, 0.20605665354687414, 0.18830325825751107, 0.15873621798610849, 0.16889157085187928, 0.21883358861631444, 0.215734189991744, 0.15928053676909493, 0.11745099289367762, 0.16175439494766408, 0.11786638004428636, 0.17382622592545532, 0.1646042725387267, 0.18489706314121254, 0.1457237377295896, 0.19288924425223314, 0.11084705279975388, 0.11784148910166377, 0.13492608400657602, 0.19319037355189145, 0.16115592348685612, 0.15035948487655013, 0.16285169357052925, 0.13845384053602328, 0.14089367322861976, 0.17121660242420372, 0.17649634074997503, 0.1513082396172961, 0.17693613043371062, 0.17973784341997645, 0.1535610044235278, 0.1680319106602616, 0.16418897498362994, 0.22397844619169913, 0.275961060149181, 0.18283723059566592, 0.24306464931001634, 0.16309801832689677, 0.1461597070838031, 0.1565927074612165, 0.15148802264479933, 0.16234418486001528, 0.19136975127901704, 0.20205819678642023, 0.19224016891413304, 0.1281511846400635, 0.19744313448309253, 0.21134440968405735, 0.18433572495119607, 0.1537616268898296, 0.15557219135008563, 0.16672259788356394, 0.22869673147169717, 0.1122990352605728, 0.189040955163164, 0.1294775268592696, 0.23378252414186906, 0.19381699152752244, 0.12116066303937399], \"y\": [0.08085716663226045, 0.03139225318417247, 0.06641571533471137, 0.057205017265432395, 0.04718066437239986, 0.047875450664349714, 0.08548476147613956, 0.05180116795076233, 0.0707053914155078, 0.06513897788148572, 0.08055515692141318, 0.033969457539888136, 0.07205333674481765, 0.07310924955844741, 0.061963519479741165, 0.05848498824742446, 0.06218402572760663, 0.059697516878618254, 0.1284810199295503, 0.12096567603430074, 0.049271138489592754, 0.027849673855384047, 0.056899960425231905, 0.07275079301368875, 0.08005417115488862, 0.06746826998376287, 0.04718028317303215, 0.11778279818340902, 0.06529547466646479, 0.08549615657826151, 0.05963742033767436, 0.06860257530862733, 0.013729259089193074, 0.03543835947547971, 0.07532561766899339, 0.06390149619166059, 0.07788083828978266, 0.05780460076791461, 0.08067682234819205, 0.09956618605420316, 0.05918749506926752, 0.04957468143330119, 0.03567392194237121, 0.04529102919393035, 0.0976194261793181, 0.06393739252031201, 0.05768326873162778, 0.03629968579950861, 0.08359128193957095, 0.0390052625495333, 0.0379098528362038, 0.06788820431692372, 0.056039398288785694, 0.06802670771684975, 0.05784294153276481, 0.07158618305167803, 0.0697469046883541, 0.07036402680327679, 0.10553648428005376, 0.04315023396240901, 0.05669430479353093, 0.12048071857926002, 0.06185609254160851, 0.06048589857799926, 0.06947432749105058, 0.054571842423583136, 0.07485770040428674, 0.0701766538815694, 0.06555857592157167, 0.06825546658490161, 0.04366855601441598, 0.06397425539348263, 0.07727017676133591, 0.11742946083994486, 0.053738764167859145, 0.058401904488016194, 0.06727866819939424, 0.05236994394831961, 0.039060528001371546, 0.04181437968968929, 0.04266202321371653, 0.10204790054972986, 0.08467075336802889, 0.08703951279147198, 0.04630360462459202, 0.07061809250565639, 0.0711463380385656, 0.05598652865506806, 0.08062530158722524, 0.07982302901458742, 0.07866994509266725, 0.0633629996061462, 0.07531899604007415, 0.07371403480172183, 0.111751493189938, 0.03945661480868831, 0.04959599098036447, 0.047027603741295006, 0.06295573925889293, 0.0839472122427797, 0.052595898595393646, 0.07622807958629399, 0.07042528535627617, 0.05619111109348986, 0.03522653360692932, 0.04989983763643199, 0.04114176606885257, 0.07437639814399177, 0.062002006738593345, 0.04900059208638804, 0.04663107368013062, 0.06563487494276009, 0.07164170909042027, 0.06053237574790214, 0.05568910789936075, 0.052837205743576546, 0.06163414407247571, 0.05871337088381662, 0.038607044050680495, 0.06559111560628365, 0.0862678749703354, 0.06560499985006057, 0.09413110156029167, 0.0644764559764661, 0.06809056492351324, 0.06451362232320723, 0.07613187786150877, 0.07543341552932648, 0.09130030867295347, 0.09120688149699775, 0.07609955283896608, 0.050417130553706335, 0.04315663389094272, 0.039423879730598, 0.047064186901381665, 0.10636813257200475, 0.06716847343758785, 0.05647990245379735, 0.05686482007978591, 0.05461403598739065, 0.09403243028607654, 0.04419474533533328, 0.13592416531229376, 0.09520064526719017, 0.05177361539841462, 0.06400602978574078, 0.06944511031159036, 0.03599784197600603, 0.04493386589072803, 0.061417215395495606, 0.0864218328711555, 0.032434448453917526, 0.05293694618363327, 0.04890861189887852, 0.038291004648878586, 0.047909058837504036, 0.054476376983978746, 0.049470555911484825, 0.05537357291567365, 0.05196118881765466, 0.08180729818974652, 0.04971903365698492, 0.06607209850305051, 0.1021545850665104, 0.0581633214095702, 0.0826586227477022, 0.06003461799719728, 0.03679204002349696, 0.08627513951597199, 0.06065766962066726, 0.051928861279704024, 0.07620805569355506, 0.06467811941842477, 0.052229628453715295, 0.022496144153375284, 0.06025316702921571, 0.04452126985274804, 0.04768411612185551, 0.03935104951265415, 0.06987598543480368, 0.12612442371219534, 0.021065211463776982, 0.0575100818207061, 0.06334345089850685, 0.0909511941258172, 0.056204274616313624, 0.06221650808216565, 0.0800573245777372, 0.0900204189311774, 0.10186624272515507, 0.07150131323520943, 0.06295354569804333, 0.05214319475590365, 0.06466543370991637, 0.04476902694965093, 0.07642495457955778, 0.06341502612842162, 0.04534913296082349, 0.06970896540206516, 0.02700373887550212, 0.07340348451642484, 0.03177370965510893, 0.05861515259555133, 0.05351780404363918, 0.10836043508662341, 0.05657598310264715, 0.05632747607023333, 0.09356611943936723, 0.085767211052465, 0.06532438017030218, 0.060078883649988195, 0.055928707244256644, 0.08227195130086426, 0.06906125455043288, 0.06940912420940175, 0.04902772247622266, 0.05715535170051071, 0.09887966426678943, 0.04779246253469904, 0.06624969719512416, 0.07186255816919271, 0.046747026993450604, 0.06305342043249287, 0.057647929731547726, 0.07385498810203385, 0.059242629566608654, 0.06315742350084845, 0.08006671895906511, 0.09892498670881467, 0.0863373281856962, 0.07800897684381645, 0.07905524559174158, 0.04973843834561291, 0.1413900865631321, 0.06517320289855036, 0.022490759047483256, 0.05838320458087954, 0.030936357223592816, 0.061277476588868444, 0.058622891814919684, 0.14895742171079565, 0.05933704711205058, 0.08523603415987785, 0.0687672100496451, 0.07257030578574936, 0.04818991238187928, 0.06608006787884249, 0.051851537778165556, 0.12286478763042294, 0.059924558847107415, 0.06485660774512998, 0.09826839262790019, 0.06917671105611176, 0.08893501132750571, 0.0686126039353416, 0.052005662880245954, 0.046009013775055535, 0.059297304295906385, 0.056885041474184404, 0.07176618075100064, 0.06795778283296722, 0.04694910070618892, 0.03518943580873091, 0.06959256331503971, 0.04453172525579058, 0.03888230072397179, 0.09101794309591166, 0.04723989591777422, 0.049467929626075914, 0.0595271788249766, 0.08184919798485729, 0.04344672905680973, 0.057392408465685336, 0.052741262779131215, 0.049101028652301024, 0.07690873615284183, 0.08206875296893862, 0.045232146720230765, 0.038703178849185414, 0.02324777018375183, 0.02487452145162334, 0.06255058688514939, 0.06663331418756707, 0.04252717003512212, 0.05905502724368632, 0.05072644095346808, 0.08278580091450466, 0.08577302642411162, 0.06391316666033761, 0.0693449632590936, 0.058677928149042304, 0.025449818917646472, 0.075145334279557, 0.06237353081718989, 0.08435924290464895, 0.0751699698908132, 0.06792488236779595, 0.067053283553436, 0.06268021415617338, 0.05620702263428473, 0.087311923030708, 0.08129165637084443, 0.04023258525697132, 0.0591093001645625, 0.04398739761684844, 0.041161574746874284, 0.047435197195471165, 0.11712113929547031, 0.07692238216408959, 0.05377075219489148, 0.06899939447245798, 0.06119041000256109, 0.1627273214927698, 0.048316326984630606, 0.06906846512449878, 0.07438925841487186, 0.052983313735448886, 0.09427179041114947, 0.11555493708784992, 0.04567696276661583, 0.05032569613746903, 0.05398878179629901, 0.06514169057987773, 0.08223592648557662, 0.08854325259275753, 0.06595248220679789, 0.12264704190478865, 0.06354541702995162, 0.07417563861263196, 0.0934721641304831, 0.0726162129631479, 0.09079044491138556, 0.029247883554286237, 0.050265825644091065, 0.03898046557844676, 0.06035076932030521, 0.06648813124709835, 0.037735073851860645, 0.09112487520689495, 0.06710565047894608, 0.0423936548939351, 0.07475808321405783, 0.04432085982635981, 0.06375023403740596, 0.05844402462869172, 0.03620107027154155, 0.07414760607545529, 0.07718382191821721, 0.058395983993989715, 0.04655549796734342, 0.09933284721508327, 0.1013769331903344, 0.11246787231504683, 0.05677609980168297, 0.03893359333112799, 0.07342905925123648, 0.04047428130468365, 0.07774938097678899, 0.0639308113347255, 0.0652335203408804, 0.045244093090523275, 0.05690789691699715, 0.036311230299093895, 0.12062962515758377, 0.055319351956328255, 0.09514369519602157, 0.11126891224383269, 0.049987499515841236, 0.057249919141755756, 0.08225564428640017, 0.06466872990815468, 0.027780146055698847, 0.06978221934128229, 0.037689055906212285, 0.06320702482244421, 0.04342938842751591, 0.036718731250725264, 0.06696802144871108, 0.06461614229315917, 0.07036396862290117, 0.09515097976319284, 0.04751323471940559, 0.06923110149432196, 0.03674674645336333, 0.08598620387798463, 0.05137431950542677, 0.03955829243031171, 0.08439903329069556, 0.06909664074657965, 0.061642374924786816, 0.0740932060428043, 0.061753110294049424, 0.06430862581588842, 0.06900216773077775, 0.03963493528994653, 0.04545416272745956, 0.04293317632611742, 0.05355561678422234, 0.08930070565885642, 0.06925518153062515, 0.049736201810991316, 0.07889175847692835, 0.06162973768801384, 0.043402341979049616, 0.08537055684734793, 0.07796478052961262, 0.06108665714491105, 0.08125706312876305, 0.06259386923407607, 0.0627064142145643, 0.09074919130490788, 0.054780977006729174, 0.06521928388322804, 0.06639248407952594, 0.03690405380443575, 0.10358518658983118, 0.05384456884913442, 0.06247951347529241, 0.0630454043330144, 0.042378129799307274, 0.04591301369248171, 0.06736652584164718, 0.05887533217147808, 0.06417803537178485, 0.053334980211342524, 0.10532574545022039, 0.061026784627193034, 0.05800563633107187, 0.12022694621200294, 0.05252083878963684, 0.04661007639832366, 0.023060504556670268, 0.04836956385808108, 0.07117831495268218, 0.1384914726461562, 0.03064983264443239, 0.06599723146344438, 0.07569903071772999, 0.09793679746667931, 0.07048958161076213, 0.06638586578659583, 0.04967024835979157, 0.06309534107139333, 0.051867374480733426, 0.057041216415498745, 0.06866696430467659, 0.08675947099122588, 0.03174723002722564, 0.10036878089808042, 0.049004298713100455, 0.13434817907424515, 0.0471094393404398, 0.0617439822357812, 0.07574301181331726, 0.05034954966734763, 0.058544508470273704, 0.050686725285954484, 0.06312999373046418, 0.03828663580289454, 0.09401978759283289, 0.06802105500997645, 0.05756925694070785, 0.04981573206766729, 0.06049008505531078, 0.060023650947466284, 0.0713524990930873, 0.038492218861028826, 0.048635516655012326, 0.061791324157526986, 0.07836181802274755, 0.05268048221801623, 0.06028823801387313, 0.06213525839991631, 0.10428793186753511, 0.09206547434546039, 0.05429789211075669, 0.03364664991070135, 0.10043009164178628, 0.03357894406459133, 0.0637131409814219, 0.10287723401132565, 0.05022772375178546, 0.05205459500268973, 0.05302524309533222, 0.06897894708065064, 0.0349640397818201, 0.054341601915139794, 0.044218666810956896, 0.11541126612801549, 0.04035738846936032, 0.09432038054336116, 0.05507779525195641, 0.033288386811133455, 0.051269962149175376, 0.06763405861978428, 0.09182464970590995, 0.05519994467711219, 0.05533510718102136, 0.09592446046755554, 0.0841129186316927, 0.05262987932765933, 0.05732657015654647, 0.056623583381233786, 0.07681301752427402, 0.09042933523960976, 0.1110623634252292, 0.10601365431551066, 0.07345110715798911, 0.07554012465409145, 0.08319865150402632, 0.03711575613663235, 0.033883549258164974, 0.05198020228747581, 0.0488810502963449, 0.0544457724072497, 0.06753097846679415, 0.07219914772560754, 0.07826229612326778, 0.04746474429429083, 0.051100556737574784, 0.06702247582201816, 0.04976218308417351, 0.07333359158221224, 0.08747946333384608, 0.07376289672644618, 0.05709547210794669, 0.04278431502194055, 0.06890607871943703, 0.08595708256339596, 0.04910884077921279, 0.06637099148422988, 0.06696716912648276, 0.046360675930577674, 0.051122331030091644, 0.08574928102625753, 0.06764160899408135, 0.04989722854363319, 0.041727279599190606, 0.06097649335813018, 0.058026842068248236, 0.022289124033224948, 0.07681034314512156, 0.06884748711281105, 0.052068885617021186, 0.0452678591561492, 0.0953745418549038, 0.051882682744140596, 0.04729068108123733, 0.05769472068534788, 0.0724239162875191, 0.07363435919224297, 0.0479963496246679, 0.03513677605619871, 0.05793822392970851, 0.034778075939724186, 0.0739613888762326, 0.08358032830832929, 0.08217165003006445, 0.05754426259630059, 0.07358979481645972, 0.10006258437030018, 0.09224777185935795, 0.07015196628070905, 0.044192976038364376, 0.0671841269044027, 0.05981708722954658, 0.07480151442623449, 0.1566881116533935, 0.05130322214921424, 0.06013227208223264, 0.017976986088863854, 0.09469334513557338, 0.024505408904801608, 0.11197934442211188, 0.05054679603336762, 0.08192190880008247, 0.05195165463311017, 0.0836553778484902, 0.04273581393310447, 0.07085428263473763, 0.08008735766586388, 0.0349143287444788, 0.01062210004351814, 0.12089972530088648, 0.10028245587018657, 0.06619356463218151, 0.05565524381266726, 0.04399562401799984, 0.05916835252886778, 0.05545559379831288, 0.05337029425256635, 0.05259330007305969, 0.054800309361248474, 0.05357086321101204, 0.04971138809747048, 0.05129844092468118, 0.12002500064474769, 0.07376863643818038, 0.07720900784901294, 0.1094405702061925, 0.05232791243719217, 0.05099552752857092, 0.058528901967923624, 0.07825203313282421, 0.05900551206639529, 0.04867884948967479, 0.043673813947744736, 0.056782171577101165, 0.059981737352485874, 0.06561013723033363, 0.05516695653533423, 0.06930686766933694, 0.04237913025060643, 0.03134025898594051, 0.05680689093666376, 0.06807096793719683, 0.11323427272621317, 0.09423591945342949, 0.06117378260246057, 0.04903830765597574, 0.024896671426346523, 0.044840231360671855, 0.12803172744509844, 0.06454812119995422, 0.07298961585382403, 0.06785702482873139, 0.06247228161779615, 0.057151070551855934, 0.06347072631634854, 0.021253758402594646, 0.06538861263362038, 0.10460441748943905, 0.031771731311402145, 0.06884095325812219, 0.08421815031335421, 0.11589137862266242, 0.03639516361711178, 0.06571313102549842, 0.08469174383065216, 0.07905649451436537, 0.04009863726463363, 0.07113933522734575, 0.09801854634792434, 0.053832549528055954, 0.043913560884478356, 0.08422301422815194, 0.06989269457808663, 0.07078858340034994, 0.07399088198786236, 0.07312760352175172, 0.05323570830744587, 0.03653001982417073, 0.04959086910808749, 0.08619514786610064, 0.024468193759782153, 0.0410222021957176, 0.02961427051837325, 0.07421376333173262, 0.14936420013933907, 0.08918337959557772, 0.08167575261340526, 0.07978709002614381, 0.042709404803326474, 0.07443576132994366, 0.061702064094073056, 0.042230294644424446, 0.09236822856157421, 0.09129353784923301, 0.06745728745439543, 0.030569938384088006, 0.08882597367843162, 0.04734499838754633, 0.05852472238422329, 0.05616775012263604, 0.07567283818756029, 0.06310629346809934, 0.04725919822144051, 0.05289792204639636, 0.06124961537863083, 0.041133538696042256, 0.03716441268845877, 0.06864812163772988, 0.07454472102216336, 0.15116931512851828, 0.044523468489070746, 0.060275289466524704, 0.07053923823188535, 0.039847757829877734, 0.05716005517201686, 0.05448415527849987, 0.04393139374519466, 0.039102762446721555, 0.08179672761765344, 0.062102522084971266, 0.11284957292374877, 0.07528997280931093, 0.04808667366322663, 0.043125055382217316, 0.058955330151390886, 0.0919454655643647, 0.07075811025911298, 0.0622989677878603, 0.05747323644514013, 0.05134350037354991, 0.0827254897613593, 0.08452979872455789, 0.06147229001026286, 0.048338132000849576, 0.06684192490581155, 0.0339062921015385, 0.06918023877260943, 0.04252024123616157, 0.06640738400056433, 0.0680686069146583, 0.042664222173380645, 0.044787009987438585, 0.06589340625354598, 0.11081516370644894, 0.059693512715114506, 0.08111763938184244, 0.09273300553915192, 0.07257702769977516, 0.05007889040492429, 0.049223254932974574, 0.08700829606124202, 0.07560894669323172, 0.015074791501130703, 0.07372568538723012, 0.07743332314374891, 0.04403316658561217, 0.05850004784980114, 0.055725060730142516, 0.058707216019239145, 0.08293411843631501, 0.06215134659361514, 0.0729294392543978, 0.07227434174826886, 0.061993144869296794, 0.06562031237722812, 0.05830269741210511, 0.09595615498065062, 0.05123686519745156, 0.04450962857091017, 0.07929090823604594, 0.0779094446117908, 0.0857385296832125, 0.07950281768760407, 0.06763448685390207, 0.05464192524403959, 0.06436175088519738, 0.0343841097137796, 0.08330405232083507, 0.057513660924271584, 0.06620480959028711, 0.05434784949770892, 0.06146747493109004, 0.076130715925942, 0.06390799724594813, 0.07049725192559096, 0.07488755480690484, 0.061635952916465564, 0.09297736850649763, 0.04655445969521867, 0.0865590497708628, 0.04730377172190957, 0.053548551633837226, 0.06226339490042713, 0.05134573378026335, 0.04617454385428816, 0.0487655823445725, 0.08339940354050765, 0.053862481326754086, 0.05479097229093566, 0.08727149224723749, 0.06532661349885607, 0.07310017007169346, 0.08964383893815543, 0.04404596003073314, 0.10160150869552931, 0.0705869489627883, 0.0591047612965107, 0.15514066495198517, 0.05256688276725666, 0.05426450265468792, 0.05546919881780118, 0.054512870871255344, 0.05826181364316299, 0.06391254158600576, 0.019301928582317027, 0.040998853176992256, 0.05803340425428151, 0.0765470497962483, 0.058498349852713356, 0.034453359045719896, 0.045335556070468574, 0.0667041023733704, 0.06446599257490702, 0.055414088699179284, 0.05145351543974314, 0.0607496476993412, 0.02059535648267723, 0.073144996407928, 0.08130449929874616, 0.06310821800172157, 0.07369688581404708, 0.047024676260787324, 0.056848577651214656, 0.05472586241049228, 0.04641942845099683, 0.04976256041847175, 0.04933625176138689, 0.07614012775125527, 0.05440223498460285, 0.06439739530822529, 0.08179477867132699, 0.0777020066555645, 0.07163237933653648, 0.045379047562688915, 0.047025510937187875, 0.09874458166971407, 0.10814192097535348, 0.09209966660797433, 0.06287228503740301, 0.07297514736515459, 0.07286501296919533, 0.042377464260264036, 0.044465512931216394, 0.05733224073357771, 0.11007539675901909, 0.05374855393285782, 0.07244267177247395, 0.061629924083299856, 0.09124771570495327, 0.061770399409371256, 0.044970432055724055, 0.051562255541512024, 0.07760024146789789, 0.051733699338799274, 0.043984835137664866, 0.024816832805250308, 0.08599626580097755, 0.050145496572727336, 0.06200990532203257, 0.05403215314845827, 0.05537735245903417, 0.08834341175090343, 0.08732821803885671, 0.06631662721897838, 0.04914470920782677, 0.06796073527132124, 0.06572469911243597, 0.06935836142557224, 0.054692187065591015, 0.06631947079011896, 0.06442116628680483, 0.09673646830440791, 0.11367660341494897, 0.06090518328730056, 0.059978743969003115, 0.056298506929019894, 0.05071952822696189, 0.08522899340820235, 0.056757897746041036, 0.07640938698443045, 0.05413403938688054, 0.04675891148597679, 0.0642899324246121, 0.09278073294715797, 0.043076071072909845, 0.06677509082857022, 0.0507533000754583, 0.08061921134534039, 0.10040953610028364, 0.053657202338303, 0.06761605655143847, 0.06688052266297717, 0.036507085892176785, 0.05815119916315845, 0.06600608607147974, 0.08702182747462989, 0.06410920302611485, 0.08214580203840653, 0.05388709042349524, 0.06528018172758003, 0.05146791823656892, 0.03322682016964787, 0.030426070057188975, 0.047995504363580264, 0.058715596407758426, 0.0885799069894228, 0.13290172057108532, 0.025474146374826204, 0.054055216744367446, 0.04201106349948783, 0.04933508759360839, 0.04459172350849531, 0.06354394154435654, 0.07824886324767451, 0.05581245403509268, 0.07975796682840462, 0.07061327547234844, 0.06086985567009716, 0.0585606391469984, 0.07053173429024209, 0.08135396930846729, 0.04011927067711953, 0.051919709910729216, 0.1109959292085506, 0.09317064135656986, 0.057626182879384036, 0.06229565592379337, 0.07640669937894164, 0.18557023894442143, 0.024308951915955924, 0.06385321278616497, 0.016375891315419236, 0.0694245181681609, 0.07095573403959456, 0.0851131340969761, 0.049225608321733894, 0.07663895933758348, 0.030642459867408465, 0.08983267792488832, 0.15335739506207924, 0.08030818937935309, 0.06028659414009809, 0.05837945971191827, 0.08650927476637503, 0.05447479203448657, 0.10620042712080646, 0.08423357248154618, 0.060731806265011984, 0.04956178885823628, 0.07356792444827605, 0.060141840141755006, 0.1123704722211189, 0.06524352732719423, 0.0472547546097845, 0.07800647669174027, 0.047197908979785264, 0.0681580353531583, 0.07755878544306088, 0.06544378949472449, 0.07407287644556718, 0.06783921985346501, 0.10350598372045888, 0.13450229221870244, 0.0672255184071001, 0.06655450773343542, 0.05720797734699293, 0.056266216859543416, 0.0438922556586073, 0.06434645615795635, 0.060482733930698064, 0.060221018167473606, 0.058836367295382754, 0.07290447115017848, 0.061670729238824565, 0.043979694189006074, 0.05371148201860183, 0.044577258269681945, 0.037382180346913534, 0.044887620225195775, 0.048910289457244384, 0.06455776461741869, 0.05321952815612116, 0.08405304715164032, 0.04731938522207664, 0.08005542889829875, 0.07407205349372716, 0.055978182004292706, 0.052767786763223856, 0.06498075981406665, 0.06050291513344944, 0.05994878966437057, 0.10886971219300642, 0.08918003356974365, 0.0748575738407433, 0.07751997677560807, 0.06230659043710691, 0.10634649169435659, 0.08052314079353001, 0.040003223533138094, 0.042616764252819454, 0.06400283150204307, 0.06432029269099622, 0.08648274284458302, 0.07055374213103924, 0.08122647051786656, 0.05201390916428036, 0.07583706511456384, 0.04976210580851201, 0.061092035133749965, 0.05937589310358272, 0.032076212064712215, 0.06839017918532543, 0.05930557933392952, 0.13004320089141638, 0.07910057410403375, 0.06289032570428225]}],\n",
              "                        {\"coloraxis\": {\"colorbar\": {\"title\": {\"text\": \"Sharpe Ratio\"}}}, \"template\": {\"data\": {\"bar\": [{\"error_x\": {\"color\": \"#2a3f5f\"}, \"error_y\": {\"color\": \"#2a3f5f\"}, \"marker\": {\"line\": {\"color\": \"white\", \"width\": 0.5}}, \"type\": \"bar\"}], \"barpolar\": [{\"marker\": {\"line\": {\"color\": \"white\", \"width\": 0.5}}, \"type\": \"barpolar\"}], \"carpet\": [{\"aaxis\": {\"endlinecolor\": \"#2a3f5f\", \"gridcolor\": \"#C8D4E3\", \"linecolor\": \"#C8D4E3\", \"minorgridcolor\": \"#C8D4E3\", \"startlinecolor\": \"#2a3f5f\"}, \"baxis\": {\"endlinecolor\": \"#2a3f5f\", \"gridcolor\": \"#C8D4E3\", \"linecolor\": \"#C8D4E3\", \"minorgridcolor\": \"#C8D4E3\", \"startlinecolor\": \"#2a3f5f\"}, \"type\": \"carpet\"}], \"choropleth\": [{\"colorbar\": {\"outlinewidth\": 0, \"ticks\": \"\"}, \"type\": \"choropleth\"}], \"contour\": [{\"colorbar\": {\"outlinewidth\": 0, \"ticks\": \"\"}, \"colorscale\": [[0.0, \"#0d0887\"], [0.1111111111111111, \"#46039f\"], [0.2222222222222222, \"#7201a8\"], [0.3333333333333333, \"#9c179e\"], [0.4444444444444444, \"#bd3786\"], [0.5555555555555556, \"#d8576b\"], [0.6666666666666666, \"#ed7953\"], [0.7777777777777778, \"#fb9f3a\"], [0.8888888888888888, \"#fdca26\"], [1.0, \"#f0f921\"]], \"type\": \"contour\"}], \"contourcarpet\": [{\"colorbar\": {\"outlinewidth\": 0, \"ticks\": \"\"}, \"type\": \"contourcarpet\"}], \"heatmap\": [{\"colorbar\": {\"outlinewidth\": 0, \"ticks\": \"\"}, \"colorscale\": [[0.0, \"#0d0887\"], [0.1111111111111111, \"#46039f\"], [0.2222222222222222, \"#7201a8\"], [0.3333333333333333, \"#9c179e\"], [0.4444444444444444, \"#bd3786\"], [0.5555555555555556, \"#d8576b\"], [0.6666666666666666, \"#ed7953\"], [0.7777777777777778, \"#fb9f3a\"], [0.8888888888888888, \"#fdca26\"], [1.0, \"#f0f921\"]], \"type\": \"heatmap\"}], \"heatmapgl\": [{\"colorbar\": {\"outlinewidth\": 0, \"ticks\": \"\"}, \"colorscale\": [[0.0, \"#0d0887\"], [0.1111111111111111, \"#46039f\"], [0.2222222222222222, \"#7201a8\"], [0.3333333333333333, \"#9c179e\"], [0.4444444444444444, \"#bd3786\"], [0.5555555555555556, \"#d8576b\"], [0.6666666666666666, \"#ed7953\"], [0.7777777777777778, \"#fb9f3a\"], [0.8888888888888888, \"#fdca26\"], [1.0, \"#f0f921\"]], \"type\": \"heatmapgl\"}], \"histogram\": [{\"marker\": {\"colorbar\": {\"outlinewidth\": 0, \"ticks\": \"\"}}, \"type\": \"histogram\"}], \"histogram2d\": [{\"colorbar\": {\"outlinewidth\": 0, \"ticks\": \"\"}, \"colorscale\": [[0.0, \"#0d0887\"], [0.1111111111111111, \"#46039f\"], [0.2222222222222222, \"#7201a8\"], [0.3333333333333333, \"#9c179e\"], [0.4444444444444444, \"#bd3786\"], [0.5555555555555556, \"#d8576b\"], [0.6666666666666666, \"#ed7953\"], [0.7777777777777778, \"#fb9f3a\"], [0.8888888888888888, \"#fdca26\"], [1.0, \"#f0f921\"]], \"type\": \"histogram2d\"}], \"histogram2dcontour\": [{\"colorbar\": {\"outlinewidth\": 0, \"ticks\": \"\"}, \"colorscale\": [[0.0, \"#0d0887\"], [0.1111111111111111, \"#46039f\"], [0.2222222222222222, \"#7201a8\"], [0.3333333333333333, \"#9c179e\"], [0.4444444444444444, \"#bd3786\"], [0.5555555555555556, \"#d8576b\"], [0.6666666666666666, \"#ed7953\"], [0.7777777777777778, \"#fb9f3a\"], [0.8888888888888888, \"#fdca26\"], [1.0, \"#f0f921\"]], \"type\": \"histogram2dcontour\"}], \"mesh3d\": [{\"colorbar\": {\"outlinewidth\": 0, \"ticks\": \"\"}, \"type\": \"mesh3d\"}], \"parcoords\": [{\"line\": {\"colorbar\": {\"outlinewidth\": 0, \"ticks\": \"\"}}, \"type\": \"parcoords\"}], \"pie\": [{\"automargin\": true, \"type\": \"pie\"}], \"scatter\": [{\"marker\": {\"colorbar\": {\"outlinewidth\": 0, \"ticks\": \"\"}}, \"type\": \"scatter\"}], \"scatter3d\": [{\"line\": {\"colorbar\": {\"outlinewidth\": 0, \"ticks\": \"\"}}, \"marker\": {\"colorbar\": {\"outlinewidth\": 0, \"ticks\": \"\"}}, \"type\": \"scatter3d\"}], \"scattercarpet\": [{\"marker\": {\"colorbar\": {\"outlinewidth\": 0, \"ticks\": \"\"}}, \"type\": \"scattercarpet\"}], \"scattergeo\": [{\"marker\": {\"colorbar\": {\"outlinewidth\": 0, \"ticks\": \"\"}}, \"type\": \"scattergeo\"}], \"scattergl\": [{\"marker\": {\"colorbar\": {\"outlinewidth\": 0, \"ticks\": \"\"}}, \"type\": \"scattergl\"}], \"scattermapbox\": [{\"marker\": {\"colorbar\": {\"outlinewidth\": 0, \"ticks\": \"\"}}, \"type\": \"scattermapbox\"}], \"scatterpolar\": [{\"marker\": {\"colorbar\": {\"outlinewidth\": 0, \"ticks\": \"\"}}, \"type\": \"scatterpolar\"}], \"scatterpolargl\": [{\"marker\": {\"colorbar\": {\"outlinewidth\": 0, \"ticks\": \"\"}}, \"type\": \"scatterpolargl\"}], \"scatterternary\": [{\"marker\": {\"colorbar\": {\"outlinewidth\": 0, \"ticks\": \"\"}}, \"type\": \"scatterternary\"}], \"surface\": [{\"colorbar\": {\"outlinewidth\": 0, \"ticks\": \"\"}, \"colorscale\": [[0.0, \"#0d0887\"], [0.1111111111111111, \"#46039f\"], [0.2222222222222222, \"#7201a8\"], [0.3333333333333333, \"#9c179e\"], [0.4444444444444444, \"#bd3786\"], [0.5555555555555556, \"#d8576b\"], [0.6666666666666666, \"#ed7953\"], [0.7777777777777778, \"#fb9f3a\"], [0.8888888888888888, \"#fdca26\"], [1.0, \"#f0f921\"]], \"type\": \"surface\"}], \"table\": [{\"cells\": {\"fill\": {\"color\": \"#EBF0F8\"}, \"line\": {\"color\": \"white\"}}, \"header\": {\"fill\": {\"color\": \"#C8D4E3\"}, \"line\": {\"color\": \"white\"}}, \"type\": \"table\"}]}, \"layout\": {\"annotationdefaults\": {\"arrowcolor\": \"#2a3f5f\", \"arrowhead\": 0, \"arrowwidth\": 1}, \"coloraxis\": {\"colorbar\": {\"outlinewidth\": 0, \"ticks\": \"\"}}, \"colorscale\": {\"diverging\": [[0, \"#8e0152\"], [0.1, \"#c51b7d\"], [0.2, \"#de77ae\"], [0.3, \"#f1b6da\"], [0.4, \"#fde0ef\"], [0.5, \"#f7f7f7\"], [0.6, \"#e6f5d0\"], [0.7, \"#b8e186\"], [0.8, \"#7fbc41\"], [0.9, \"#4d9221\"], [1, \"#276419\"]], \"sequential\": [[0.0, \"#0d0887\"], [0.1111111111111111, \"#46039f\"], [0.2222222222222222, \"#7201a8\"], [0.3333333333333333, \"#9c179e\"], [0.4444444444444444, \"#bd3786\"], [0.5555555555555556, \"#d8576b\"], [0.6666666666666666, \"#ed7953\"], [0.7777777777777778, \"#fb9f3a\"], [0.8888888888888888, \"#fdca26\"], [1.0, \"#f0f921\"]], \"sequentialminus\": [[0.0, \"#0d0887\"], [0.1111111111111111, \"#46039f\"], [0.2222222222222222, \"#7201a8\"], [0.3333333333333333, \"#9c179e\"], [0.4444444444444444, \"#bd3786\"], [0.5555555555555556, \"#d8576b\"], [0.6666666666666666, \"#ed7953\"], [0.7777777777777778, \"#fb9f3a\"], [0.8888888888888888, \"#fdca26\"], [1.0, \"#f0f921\"]]}, \"colorway\": [\"#636efa\", \"#EF553B\", \"#00cc96\", \"#ab63fa\", \"#FFA15A\", \"#19d3f3\", \"#FF6692\", \"#B6E880\", \"#FF97FF\", \"#FECB52\"], \"font\": {\"color\": \"#2a3f5f\"}, \"geo\": {\"bgcolor\": \"white\", \"lakecolor\": \"white\", \"landcolor\": \"white\", \"showlakes\": true, \"showland\": true, \"subunitcolor\": \"#C8D4E3\"}, \"hoverlabel\": {\"align\": \"left\"}, \"hovermode\": \"closest\", \"mapbox\": {\"style\": \"light\"}, \"paper_bgcolor\": \"white\", \"plot_bgcolor\": \"white\", \"polar\": {\"angularaxis\": {\"gridcolor\": \"#EBF0F8\", \"linecolor\": \"#EBF0F8\", \"ticks\": \"\"}, \"bgcolor\": \"white\", \"radialaxis\": {\"gridcolor\": \"#EBF0F8\", \"linecolor\": \"#EBF0F8\", \"ticks\": \"\"}}, \"scene\": {\"xaxis\": {\"backgroundcolor\": \"white\", \"gridcolor\": \"#DFE8F3\", \"gridwidth\": 2, \"linecolor\": \"#EBF0F8\", \"showbackground\": true, \"ticks\": \"\", \"zerolinecolor\": \"#EBF0F8\"}, \"yaxis\": {\"backgroundcolor\": \"white\", \"gridcolor\": \"#DFE8F3\", \"gridwidth\": 2, \"linecolor\": \"#EBF0F8\", \"showbackground\": true, \"ticks\": \"\", \"zerolinecolor\": \"#EBF0F8\"}, \"zaxis\": {\"backgroundcolor\": \"white\", \"gridcolor\": \"#DFE8F3\", \"gridwidth\": 2, \"linecolor\": \"#EBF0F8\", \"showbackground\": true, \"ticks\": \"\", \"zerolinecolor\": \"#EBF0F8\"}}, \"shapedefaults\": {\"line\": {\"color\": \"#2a3f5f\"}}, \"ternary\": {\"aaxis\": {\"gridcolor\": \"#DFE8F3\", \"linecolor\": \"#A2B1C6\", \"ticks\": \"\"}, \"baxis\": {\"gridcolor\": \"#DFE8F3\", \"linecolor\": \"#A2B1C6\", \"ticks\": \"\"}, \"bgcolor\": \"white\", \"caxis\": {\"gridcolor\": \"#DFE8F3\", \"linecolor\": \"#A2B1C6\", \"ticks\": \"\"}}, \"title\": {\"x\": 0.05}, \"xaxis\": {\"automargin\": true, \"gridcolor\": \"#EBF0F8\", \"linecolor\": \"#EBF0F8\", \"ticks\": \"\", \"title\": {\"standoff\": 15}, \"zerolinecolor\": \"#EBF0F8\", \"zerolinewidth\": 2}, \"yaxis\": {\"automargin\": true, \"gridcolor\": \"#EBF0F8\", \"linecolor\": \"#EBF0F8\", \"ticks\": \"\", \"title\": {\"standoff\": 15}, \"zerolinecolor\": \"#EBF0F8\", \"zerolinewidth\": 2}}}, \"title\": {\"text\": \"Sample of Random Portfolios\"}, \"xaxis\": {\"title\": {\"text\": \"Quarterly Risk (Volatility)\"}}, \"yaxis\": {\"title\": {\"text\": \"Quarterly Return\"}}},\n",
              "                        {\"responsive\": true}\n",
              "                    ).then(function(){\n",
              "                            \n",
              "var gd = document.getElementById('75f1f538-e72e-4f01-bf73-cd5e73f4bef5');\n",
              "var x = new MutationObserver(function (mutations, observer) {{\n",
              "        var display = window.getComputedStyle(gd).display;\n",
              "        if (!display || display === 'none') {{\n",
              "            console.log([gd, 'removed!']);\n",
              "            Plotly.purge(gd);\n",
              "            observer.disconnect();\n",
              "        }}\n",
              "}});\n",
              "\n",
              "// Listen for the removal of the full notebook cells\n",
              "var notebookContainer = gd.closest('#notebook-container');\n",
              "if (notebookContainer) {{\n",
              "    x.observe(notebookContainer, {childList: true});\n",
              "}}\n",
              "\n",
              "// Listen for the clearing of the current output cell\n",
              "var outputEl = gd.closest('.output');\n",
              "if (outputEl) {{\n",
              "    x.observe(outputEl, {childList: true});\n",
              "}}\n",
              "\n",
              "                        })\n",
              "                };\n",
              "                \n",
              "            </script>\n",
              "        </div>\n",
              "</body>\n",
              "</html>"
            ]
          },
          "metadata": {}
        }
      ]
    },
    {
      "cell_type": "markdown",
      "metadata": {
        "id": "FppyUnmNpurp"
      },
      "source": [
        "## MARKOWITZ OPTIMIZATION "
      ]
    },
    {
      "cell_type": "code",
      "metadata": {
        "id": "Chx0mb9MprZC"
      },
      "source": [
        "return_data = stocks_return.T"
      ],
      "execution_count": 44,
      "outputs": []
    },
    {
      "cell_type": "code",
      "metadata": {
        "id": "vdSmONedpxVU"
      },
      "source": [
        "r = np.asarray(np.mean(return_data, axis=1))\n",
        "C = np.asmatrix(np.cov(return_data))"
      ],
      "execution_count": 45,
      "outputs": []
    },
    {
      "cell_type": "code",
      "metadata": {
        "id": "ONpWQB-HpyvY"
      },
      "source": [
        "symbols = stocks_return.columns\n",
        "\n",
        "# Number of variables\n",
        "n = len(symbols)\n",
        "\n",
        "# The variables vector\n",
        "x = Variable(n)\n",
        "\n",
        "# The minimum return\n",
        "req_return = 0.03\n",
        "\n",
        "# The return\n",
        "ret = r.T*x\n",
        "\n",
        "# The risk in xT.Q.x format\n",
        "risk = quad_form(x, C)\n",
        "\n",
        "# The core problem definition with the Problem class from CVXPY\n",
        "prob = Problem(Minimize(risk), [sum(x)==1, ret >= req_return, x>=0, x<=0.75])"
      ],
      "execution_count": 46,
      "outputs": []
    },
    {
      "cell_type": "code",
      "metadata": {
        "id": "UqzRCk-Gp3vu",
        "colab": {
          "base_uri": "https://localhost:8080/"
        },
        "outputId": "ccbc6cce-bf7a-494c-c14b-eccd8fa5cddb"
      },
      "source": [
        "%%time\n",
        "prob.solve()\n",
        "print (\"Exp ret = {}%\".format(round(100*ret.value,2)))\n",
        "print (\"Expected risk    = {}%\".format(100*risk.value**0.1))"
      ],
      "execution_count": 47,
      "outputs": [
        {
          "output_type": "stream",
          "name": "stdout",
          "text": [
            "Exp ret = 5.55%\n",
            "Expected risk    = 3.397849088725085%\n",
            "CPU times: user 887 ms, sys: 251 ms, total: 1.14 s\n",
            "Wall time: 902 ms\n"
          ]
        }
      ]
    },
    {
      "cell_type": "code",
      "metadata": {
        "id": "tB5eOCiboKCO",
        "colab": {
          "base_uri": "https://localhost:8080/"
        },
        "outputId": "cf8ff02d-8dd5-4b0c-a7b6-399c2f619347"
      },
      "source": [
        "c = 0\n",
        "for s in range(len(symbols)):\n",
        "  if x.value[s]>0.000001:\n",
        "    c+=1\n",
        "    print(symbols[s], ' = ', round(x.value[s],6))"
      ],
      "execution_count": 48,
      "outputs": [
        {
          "output_type": "stream",
          "name": "stdout",
          "text": [
            "AAON  =  9.3e-05\n",
            "AAT  =  1.6e-05\n",
            "AAWW  =  0.000136\n",
            "ABCB  =  0.000153\n",
            "ABM  =  8.2e-05\n",
            "ABTX  =  7.3e-05\n",
            "ACA  =  0.000116\n",
            "ACLS  =  0.000174\n",
            "ADC  =  0.005689\n",
            "ADTN  =  0.000123\n",
            "ADUS  =  0.000183\n",
            "AEIS  =  0.000141\n",
            "AEL  =  0.000127\n",
            "AGO  =  0.000158\n",
            "AGYS  =  0.000213\n",
            "AHH  =  3e-06\n",
            "AIN  =  0.000321\n",
            "AIR  =  0.000244\n",
            "AIT  =  4.8e-05\n",
            "AJRD  =  0.000651\n",
            "AKR  =  0.000343\n",
            "ALEX  =  0.000292\n",
            "ALG  =  9.3e-05\n",
            "ALGT  =  0.000292\n",
            "ALRM  =  0.000129\n",
            "AMBC  =  0.000132\n",
            "AMEH  =  0.000156\n",
            "AMN  =  0.009696\n",
            "AMPH  =  4.4e-05\n",
            "AMSF  =  0.014415\n",
            "AMWD  =  0.000292\n",
            "ANGO  =  0.000168\n",
            "ANIK  =  0.000124\n",
            "ANIP  =  0.000235\n",
            "APOG  =  8.9e-05\n",
            "ARCB  =  0.000374\n",
            "ARI  =  0.000136\n",
            "ARLO  =  0.000415\n",
            "ARR  =  0.000113\n",
            "ASTE  =  0.0002\n",
            "AVAV  =  6.5e-05\n",
            "AVNS  =  4.4e-05\n",
            "AX  =  0.000184\n",
            "AZZ  =  4.5e-05\n",
            "B  =  6.2e-05\n",
            "BANC  =  0.000226\n",
            "BANF  =  0.00016\n",
            "BANR  =  0.000115\n",
            "BCC  =  0.000145\n",
            "BCOR  =  9.7e-05\n",
            "BDN  =  6e-06\n",
            "BFS  =  0.000229\n",
            "BHE  =  0.000124\n",
            "BHLB  =  7.3e-05\n",
            "BKU  =  0.00016\n",
            "BLFS  =  0.000408\n",
            "BMI  =  9.2e-05\n",
            "BRC  =  5.5e-05\n",
            "BRKL  =  1.5e-05\n",
            "BSIG  =  0.000208\n",
            "CAMP  =  0.000254\n",
            "CARA  =  2.5e-05\n",
            "CASH  =  0.000123\n",
            "CBU  =  8e-05\n",
            "CCRN  =  4e-05\n",
            "CDMO  =  0.000144\n",
            "CEVA  =  0.000156\n",
            "CFFN  =  0.000219\n",
            "CHCO  =  3e-05\n",
            "CHCT  =  6.4e-05\n",
            "CHRS  =  4.9e-05\n",
            "CIR  =  0.000363\n",
            "CLDT  =  0.000263\n",
            "CLI  =  2.9e-05\n",
            "CMTL  =  0.000175\n",
            "CNMD  =  0.000202\n",
            "CNXN  =  5.6e-05\n",
            "COHU  =  0.000391\n",
            "COLB  =  3.1e-05\n",
            "COLL  =  0.000379\n",
            "COOP  =  0.000522\n",
            "CORT  =  0.000278\n",
            "CPF  =  9.4e-05\n",
            "CPSI  =  0.000123\n",
            "CRVL  =  0.000132\n",
            "CRY  =  3.5e-05\n",
            "CSGS  =  6.2e-05\n",
            "CSII  =  9.5e-05\n",
            "CSR  =  0.000135\n",
            "CTRE  =  5e-06\n",
            "CTS  =  0.001491\n",
            "CUBI  =  0.000234\n",
            "CUTR  =  0.000283\n",
            "CVBF  =  0.00021\n",
            "CXW  =  9e-05\n",
            "CYH  =  0.001009\n",
            "CYTK  =  6.3e-05\n",
            "DBD  =  0.000461\n",
            "DCOM  =  7.9e-05\n",
            "DDD  =  0.001083\n",
            "DEA  =  0.021498\n",
            "DFIN  =  0.000357\n",
            "DGII  =  0.000277\n",
            "DHC  =  0.000224\n",
            "DIOD  =  0.000207\n",
            "DLX  =  0.000185\n",
            "DNOW  =  0.000164\n",
            "DRH  =  0.000199\n",
            "DSPG  =  3.1e-05\n",
            "DXPE  =  0.000264\n",
            "EBIX  =  0.000203\n",
            "ECOL  =  7e-05\n",
            "ECPG  =  8.8e-05\n",
            "EFC  =  0.000285\n",
            "EGBN  =  1.8e-05\n",
            "EGHT  =  0.000135\n",
            "EGRX  =  8.5e-05\n",
            "EHTH  =  0.052268\n",
            "EIG  =  0.008462\n",
            "ENDP  =  0.000256\n",
            "ENSG  =  0.000127\n",
            "ENTA  =  0.000111\n",
            "ENVA  =  0.000127\n",
            "EPAC  =  0.000115\n",
            "EPAY  =  0.000241\n",
            "EPRT  =  0.000136\n",
            "ESE  =  0.00011\n",
            "EVTC  =  0.00011\n",
            "EXLS  =  1e-05\n",
            "EXPO  =  0.000332\n",
            "EXTR  =  0.000382\n",
            "EZPW  =  0.005957\n",
            "FARO  =  7.9e-05\n",
            "FBC  =  0.000195\n",
            "FBK  =  0.000175\n",
            "FBNC  =  9.8e-05\n",
            "FBP  =  0.000143\n",
            "FCF  =  2.4e-05\n",
            "FCPT  =  6.7e-05\n",
            "FELE  =  6.5e-05\n",
            "FFBC  =  0.000134\n",
            "FHB  =  0.000117\n",
            "FIX  =  7.9e-05\n",
            "FLGT  =  0.00072\n",
            "FLOW  =  0.000176\n",
            "FMBI  =  9.5e-05\n",
            "FN  =  6.4e-05\n",
            "FORM  =  0.000242\n",
            "FORR  =  0.000189\n",
            "FSP  =  0.000243\n",
            "FSS  =  0.000362\n",
            "FWRD  =  6e-05\n",
            "GBX  =  0.00025\n",
            "GDOT  =  0.0001\n",
            "GEO  =  0.000175\n",
            "GFF  =  0.000187\n",
            "GHL  =  0.000178\n",
            "GKOS  =  0.000214\n",
            "GMS  =  0.00019\n",
            "GNL  =  3.3e-05\n",
            "GNW  =  0.013766\n",
            "GPMT  =  0.000193\n",
            "GTLS  =  0.00042\n",
            "GTY  =  2.1e-05\n",
            "GVA  =  9.2e-05\n",
            "GWB  =  0.000157\n",
            "HA  =  0.00025\n",
            "HAFC  =  0.000128\n",
            "HCI  =  3.8e-05\n",
            "HCSG  =  0.001986\n",
            "HFWA  =  1.3e-05\n",
            "HI  =  0.000165\n",
            "HLIT  =  0.00012\n",
            "HMN  =  0.000174\n",
            "HMST  =  0.000106\n",
            "HNGR  =  0.000118\n",
            "HNI  =  8e-06\n",
            "HOPE  =  0.00015\n",
            "HSC  =  0.000246\n",
            "HSII  =  4.3e-05\n",
            "HSKA  =  0.000189\n",
            "HSTM  =  0.018505\n",
            "HT  =  0.000307\n",
            "HTH  =  0.000103\n",
            "HTLD  =  0.00019\n",
            "HUBG  =  3.8e-05\n",
            "IBTX  =  0.000246\n",
            "ICHR  =  0.000194\n",
            "IDCC  =  3.2e-05\n",
            "IIIN  =  9.4e-05\n",
            "IIPR  =  8.6e-05\n",
            "ILPT  =  4.8e-05\n",
            "INDB  =  1.6e-05\n",
            "INGN  =  6.3e-05\n",
            "INN  =  0.000284\n",
            "INVA  =  0.000154\n",
            "IRT  =  0.000115\n",
            "ISBC  =  0.000151\n",
            "ITGR  =  3.2e-05\n",
            "ITRI  =  2.1e-05\n",
            "IVR  =  0.000208\n",
            "JBT  =  9.7e-05\n",
            "JOE  =  9.3e-05\n",
            "JRVR  =  2.2e-05\n",
            "JYNT  =  0.000735\n",
            "KAMN  =  7.2e-05\n",
            "KELYA  =  1.5e-05\n",
            "KFY  =  0.000169\n",
            "KLIC  =  9.8e-05\n",
            "KN  =  7.3e-05\n",
            "KREF  =  4.7e-05\n",
            "LGND  =  0.000145\n",
            "LKFN  =  5.9e-05\n",
            "LMAT  =  0.000135\n",
            "LNTH  =  0.000458\n",
            "LPSN  =  0.000255\n",
            "LTC  =  5e-05\n",
            "LXP  =  0.012096\n",
            "MANT  =  8.1e-05\n",
            "MATW  =  0.000105\n",
            "MATX  =  0.000121\n",
            "MD  =  0.000156\n",
            "MDRX  =  6.9e-05\n",
            "MEI  =  5.8e-05\n",
            "MGLN  =  0.000206\n",
            "MLAB  =  8.2e-05\n",
            "MLI  =  4e-06\n",
            "MMI  =  0.000169\n",
            "MMSI  =  0.000103\n",
            "MODV  =  9.4e-05\n",
            "MRTN  =  3.7e-05\n",
            "MTOR  =  0.00036\n",
            "MTRX  =  0.000251\n",
            "MXL  =  0.000219\n",
            "MYGN  =  0.000259\n",
            "MYRG  =  1.4e-05\n",
            "NBHC  =  2.5e-05\n",
            "NBTB  =  3.8e-05\n",
            "NEO  =  0.000308\n",
            "NFBK  =  9.6e-05\n",
            "NMIH  =  0.000277\n",
            "NPK  =  1.5e-05\n",
            "NPO  =  0.000125\n",
            "NSIT  =  0.000133\n",
            "NTCT  =  0.000427\n",
            "NTGR  =  0.000404\n",
            "NTUS  =  0.000386\n",
            "NWBI  =  1.7e-05\n",
            "NX  =  0.000148\n",
            "NXGN  =  0.000145\n",
            "NXRT  =  0.000113\n",
            "NYMT  =  0.000329\n",
            "OFG  =  9.6e-05\n",
            "OFIX  =  7.7e-05\n",
            "OMCL  =  2.9e-05\n",
            "OMI  =  0.030454\n",
            "ONB  =  1.3e-05\n",
            "OPI  =  0.002227\n",
            "OPRX  =  0.000173\n",
            "ORGO  =  0.000824\n",
            "OSIS  =  6.7e-05\n",
            "OSPN  =  2e-05\n",
            "OSUR  =  0.025116\n",
            "PAHC  =  0.007205\n",
            "PBH  =  0.003978\n",
            "PBI  =  0.000477\n",
            "PCRX  =  0.000224\n",
            "PDFS  =  0.000208\n",
            "PFBC  =  0.000154\n",
            "PFS  =  0.000175\n",
            "PGTI  =  0.0002\n",
            "PIPR  =  9.3e-05\n",
            "PKE  =  0.004087\n",
            "PLAB  =  0.000125\n",
            "PLUS  =  0.000102\n",
            "PLXS  =  7.8e-05\n",
            "PMT  =  0.000152\n",
            "POLY  =  0.000634\n",
            "POWI  =  7e-06\n",
            "POWL  =  0.000138\n",
            "PPBI  =  0.00013\n",
            "PRA  =  0.000196\n",
            "PRAA  =  6e-05\n",
            "PRFT  =  9e-05\n",
            "PRGS  =  6.4e-05\n",
            "PRK  =  5.4e-05\n",
            "PRLB  =  0.000227\n",
            "QURE  =  0.00042\n",
            "RAVN  =  8e-05\n",
            "RC  =  0.000146\n",
            "RDNT  =  0.000168\n",
            "REZI  =  0.000335\n",
            "RGNX  =  7.5e-05\n",
            "RGP  =  1e-05\n",
            "RILY  =  0.000228\n",
            "RLGY  =  0.000573\n",
            "RMAX  =  0.000228\n",
            "RMBS  =  6e-06\n",
            "RNST  =  8.5e-05\n",
            "ROCK  =  0.000133\n",
            "ROG  =  8.2e-05\n",
            "ROIC  =  0.000141\n",
            "RPT  =  0.000217\n",
            "RWT  =  0.000218\n",
            "SAFE  =  0.046116\n",
            "SAFT  =  0.007643\n",
            "SANM  =  5e-06\n",
            "SBCF  =  0.000126\n",
            "SBSI  =  0.000259\n",
            "SCSC  =  6.9e-05\n",
            "SEM  =  0.000199\n",
            "SFBS  =  3.7e-05\n",
            "SFNC  =  0.00011\n",
            "SGH  =  0.000185\n",
            "SITC  =  0.000309\n",
            "SKT  =  0.000401\n",
            "SKYW  =  0.000205\n",
            "SLP  =  5.9e-05\n",
            "SNEX  =  7.3e-05\n",
            "SPNT  =  7e-06\n",
            "SPPI  =  0.000367\n",
            "SPSC  =  0.000131\n",
            "SPXC  =  0.000153\n",
            "SRDX  =  0.000135\n",
            "STAR  =  6.4e-05\n",
            "STBA  =  9.7e-05\n",
            "STC  =  0.000101\n",
            "SUPN  =  0.000265\n",
            "SVC  =  0.00029\n",
            "SXI  =  9.3e-05\n",
            "TBBK  =  0.000248\n",
            "TBI  =  5.5e-05\n",
            "TBK  =  0.000189\n",
            "TCMD  =  0.000277\n",
            "TGI  =  0.000259\n",
            "TILE  =  0.000141\n",
            "TMP  =  4.5e-05\n",
            "TNC  =  5e-06\n",
            "TREE  =  0.000203\n",
            "TRHC  =  0.023974\n",
            "TRMK  =  4e-05\n",
            "TRST  =  7e-06\n",
            "TRUP  =  0.000479\n",
            "TTEC  =  0.000247\n",
            "TTMI  =  8.9e-05\n",
            "TVTY  =  0.000378\n",
            "TWO  =  0.000287\n",
            "UBA  =  0.000258\n",
            "UCBI  =  7.1e-05\n",
            "UCTT  =  0.000303\n",
            "UFCS  =  0.000317\n",
            "UFPI  =  9.6e-05\n",
            "UHT  =  0.008854\n",
            "UIS  =  8.7e-05\n",
            "UNF  =  6.7e-05\n",
            "UNIT  =  0.000145\n",
            "USPH  =  1.4e-05\n",
            "UVE  =  0.000173\n",
            "VBTX  =  0.000164\n",
            "VCEL  =  0.000352\n",
            "VECO  =  5.6e-05\n",
            "VIAV  =  1.9e-05\n",
            "VICR  =  0.000252\n",
            "VIVO  =  0.00026\n",
            "VNDA  =  3e-05\n",
            "VREX  =  0.006812\n",
            "VRTS  =  0.000154\n",
            "VRTV  =  0.000622\n",
            "VVI  =  0.000198\n",
            "WABC  =  6.4e-05\n",
            "WD  =  0.000189\n",
            "WETF  =  0.00019\n",
            "WIRE  =  0.000128\n",
            "WNC  =  0.000229\n",
            "WRE  =  0.002476\n",
            "WRLD  =  2.6e-05\n",
            "WSFS  =  0.000155\n",
            "WSR  =  0.000157\n",
            "WTS  =  7.5e-05\n",
            "XHR  =  0.000196\n",
            "XNCR  =  0.000136\n",
            "XPER  =  0.000374\n",
            "ZYXI  =  0.005284\n",
            "ACC  =  5.4e-05\n",
            "ACHC  =  0.000156\n",
            "ACIW  =  0.000112\n",
            "ACM  =  9.7e-05\n",
            "ADS  =  0.000412\n",
            "AFG  =  9e-05\n",
            "AGCO  =  0.0002\n",
            "AMED  =  0.000121\n",
            "AMG  =  0.000197\n",
            "AMKR  =  0.00034\n",
            "APPS  =  0.000818\n",
            "ARW  =  0.000146\n",
            "ARWR  =  0.000608\n",
            "ASB  =  5.1e-05\n",
            "ASGN  =  0.000241\n",
            "AVT  =  6.6e-05\n",
            "AXON  =  7.7e-05\n",
            "AYI  =  2.1e-05\n",
            "AZPN  =  8.6e-05\n",
            "BCO  =  9.7e-05\n",
            "BDC  =  4.1e-05\n",
            "BHF  =  0.000147\n",
            "BLDR  =  0.000417\n",
            "BLKB  =  0.000101\n",
            "BOH  =  7.6e-05\n",
            "BRKS  =  1e-05\n",
            "BRX  =  0.00018\n",
            "CACI  =  4.2e-05\n",
            "CADE  =  9.3e-05\n",
            "CAR  =  0.000285\n",
            "CATY  =  5.7e-05\n",
            "CBSH  =  3.2e-05\n",
            "CCMP  =  8.1e-05\n",
            "CDK  =  0.000141\n",
            "CFR  =  7.6e-05\n",
            "CFX  =  0.000221\n",
            "CGNX  =  0.000118\n",
            "CHE  =  0.010955\n",
            "CIEN  =  4.5e-05\n",
            "CIT  =  0.000252\n",
            "CLH  =  6.4e-05\n",
            "CNO  =  5.5e-05\n",
            "COHR  =  0.000285\n",
            "CONE  =  0.019824\n",
            "COR  =  0.018107\n",
            "CPT  =  0.000175\n",
            "CR  =  0.0001\n",
            "CRUS  =  0.000235\n",
            "CSL  =  4.5e-05\n",
            "CUZ  =  2.2e-05\n",
            "CVLT  =  0.000353\n",
            "CW  =  6.2e-05\n",
            "DCI  =  5.9e-05\n",
            "DEI  =  0.00025\n",
            "DOC  =  7.4e-05\n",
            "DY  =  0.000268\n",
            "EBS  =  0.000183\n",
            "EGP  =  3.2e-05\n",
            "EHC  =  6.2e-05\n",
            "EME  =  1.1e-05\n",
            "ENS  =  9.3e-05\n",
            "ENV  =  0.000194\n",
            "EPR  =  0.000206\n",
            "ESNT  =  0.000138\n",
            "EVR  =  0.000169\n",
            "EWBC  =  0.000196\n",
            "EXEL  =  3.9e-05\n",
            "FAF  =  1.1e-05\n",
            "FCFS  =  0.02288\n",
            "FCN  =  0.013866\n",
            "FDS  =  0.000151\n",
            "FFIN  =  8.1e-05\n",
            "FHI  =  5.1e-05\n",
            "FHN  =  0.000153\n",
            "FICO  =  0.000123\n",
            "FLR  =  0.00031\n",
            "FLS  =  8e-05\n",
            "FNB  =  4.5e-05\n",
            "FR  =  2.6e-05\n",
            "FSLR  =  0.000193\n",
            "FULT  =  2.3e-05\n",
            "G  =  8.1e-05\n",
            "GATX  =  2.3e-05\n",
            "GBCI  =  2e-05\n",
            "GGG  =  7.8e-05\n",
            "GMED  =  4.6e-05\n",
            "HAE  =  0.000122\n",
            "HALO  =  2e-05\n",
            "HIW  =  2e-06\n",
            "HOMB  =  9.7e-05\n",
            "HPP  =  3.8e-05\n",
            "HQY  =  5e-05\n",
            "HR  =  4.7e-05\n",
            "HRC  =  0.000132\n",
            "HUBB  =  6e-05\n",
            "HWC  =  0.000148\n",
            "HXL  =  0.000187\n",
            "IART  =  4.1e-05\n",
            "IBKR  =  5.5e-05\n",
            "IBOC  =  7.6e-05\n",
            "ICUI  =  0.005701\n",
            "IIVI  =  0.000151\n",
            "ITT  =  0.000116\n",
            "JAZZ  =  0.00017\n",
            "JBGS  =  2.2e-05\n",
            "JBL  =  0.000112\n",
            "JBLU  =  0.000159\n",
            "JEF  =  0.000123\n",
            "JHG  =  0.000107\n",
            "JLL  =  9.4e-05\n",
            "KAR  =  3.7e-05\n",
            "KBR  =  7.3e-05\n",
            "KEX  =  8.3e-05\n",
            "KMPR  =  3.3e-05\n",
            "KMT  =  0.000218\n",
            "KNSL  =  8.5e-05\n",
            "KNX  =  3e-05\n",
            "KRC  =  4.8e-05\n",
            "KRG  =  0.000172\n",
            "LAMR  =  7.7e-05\n",
            "LECO  =  7.2e-05\n",
            "LFUS  =  0.000103\n",
            "LHCG  =  0.000125\n",
            "LII  =  5.2e-05\n",
            "LITE  =  0.000187\n",
            "LIVN  =  0.000162\n",
            "LSCC  =  0.000187\n",
            "LSI  =  0.001972\n",
            "LSTR  =  3e-06\n",
            "MAC  =  0.000346\n",
            "MAN  =  8.9e-05\n",
            "MANH  =  9.3e-05\n",
            "MASI  =  9.8e-05\n",
            "MCY  =  0.00024\n",
            "MEDP  =  0.000103\n",
            "MIDD  =  0.000184\n",
            "MIME  =  0.000125\n",
            "MKSI  =  0.000156\n",
            "MLKN  =  3.9e-05\n",
            "MMS  =  5.5e-05\n",
            "MOH  =  0.00013\n",
            "MPW  =  8e-06\n",
            "MRCY  =  0.010821\n",
            "MSA  =  7.4e-05\n",
            "MSM  =  3.9e-05\n",
            "MTG  =  0.000192\n",
            "MTZ  =  0.000405\n",
            "NATI  =  1.9e-05\n",
            "NAVI  =  7e-06\n",
            "NBIX  =  6.3e-05\n",
            "NCR  =  0.000115\n",
            "NDSN  =  5.1e-05\n",
            "NEOG  =  0.008797\n",
            "NKTR  =  0.000154\n",
            "NNN  =  3.6e-05\n",
            "NSA  =  0.005144\n",
            "NSP  =  0.000143\n",
            "NUVA  =  5.6e-05\n",
            "NVT  =  7e-06\n",
            "NYCB  =  0.00036\n",
            "OC  =  9.7e-05\n",
            "OFC  =  3.5e-05\n",
            "OHI  =  7.2e-05\n",
            "OLED  =  0.000236\n",
            "OPCH  =  9.1e-05\n",
            "ORI  =  0.00042\n",
            "OSK  =  7.1e-05\n",
            "OZK  =  0.000138\n",
            "PACW  =  0.000178\n",
            "PB  =  5.8e-05\n",
            "PCH  =  2.1e-05\n",
            "PCTY  =  0.000201\n",
            "PDCO  =  0.000136\n",
            "PEB  =  0.00023\n",
            "PEN  =  0.000103\n",
            "PK  =  0.000312\n",
            "PNFP  =  0.000178\n",
            "PRG  =  0.000201\n",
            "PRGO  =  0.029208\n",
            "PRI  =  3.1e-05\n",
            "PSB  =  0.000382\n",
            "QDEL  =  0.000115\n",
            "QLYS  =  0.000104\n",
            "R  =  0.000207\n",
            "RAMP  =  0.000194\n",
            "RBC  =  0.00011\n",
            "RCM  =  0.000414\n",
            "REXR  =  0.001414\n",
            "RGA  =  0.000115\n",
            "RGEN  =  0.000135\n",
            "RLI  =  0.0002\n",
            "RNR  =  7.3e-05\n",
            "RUN  =  0.000421\n",
            "RYN  =  5.2e-05\n",
            "SABR  =  0.000304\n",
            "SAIA  =  0.00033\n",
            "SAIC  =  4.5e-05\n",
            "SAIL  =  0.000393\n",
            "SBNY  =  0.00029\n",
            "SBRA  =  0.000123\n",
            "SEDG  =  0.000281\n",
            "SEIC  =  4e-05\n",
            "SF  =  6e-05\n",
            "SIGI  =  0.000193\n",
            "SLAB  =  3e-05\n",
            "SLG  =  0.000107\n",
            "SLM  =  0.000125\n",
            "SMTC  =  0.000125\n",
            "SNV  =  0.000203\n",
            "SNX  =  0.000235\n",
            "SPWR  =  0.000608\n",
            "SRC  =  7.8e-05\n",
            "SRCL  =  9.4e-05\n",
            "SSD  =  0.000108\n",
            "STAA  =  3.1e-05\n",
            "STL  =  0.000128\n",
            "STOR  =  0.000183\n",
            "SYNA  =  0.000282\n",
            "SYNH  =  5e-05\n",
            "TCBI  =  0.000277\n",
            "TDC  =  0.000547\n",
            "TEX  =  0.000202\n",
            "THC  =  0.000428\n",
            "THG  =  9e-06\n",
            "TKR  =  0.000223\n",
            "TNDM  =  7.1e-05\n",
            "TREX  =  7.1e-05\n",
            "TRN  =  6.3e-05\n",
            "TTC  =  5.1e-05\n",
            "TTEK  =  7.1e-05\n",
            "UBSI  =  0.000133\n",
            "UE  =  0.00027\n",
            "UMBF  =  6.8e-05\n",
            "UMPQ  =  4.2e-05\n",
            "UNM  =  6.5e-05\n",
            "UNVR  =  0.000119\n",
            "UTHR  =  0.000397\n",
            "VLY  =  9.5e-05\n",
            "VMI  =  0.000118\n",
            "VSAT  =  2.2e-05\n",
            "VSH  =  0.000108\n",
            "WAFD  =  0.000393\n",
            "WBS  =  0.000221\n",
            "WERN  =  0.004623\n",
            "WEX  =  0.000168\n",
            "WOLF  =  0.000154\n",
            "WSO  =  6.1e-05\n",
            "WTFC  =  0.000144\n",
            "WWD  =  0.000127\n",
            "XPO  =  0.000158\n",
            "XRX  =  0.000239\n",
            "Y  =  8.6e-05\n",
            "A  =  3.8e-05\n",
            "AAL  =  0.000126\n",
            "AAPL  =  0.000199\n",
            "ABBV  =  2.6e-05\n",
            "ABC  =  0.000252\n",
            "ABMD  =  0.000135\n",
            "ABT  =  7e-05\n",
            "ACN  =  6.6e-05\n",
            "ADBE  =  0.000108\n",
            "ADI  =  1.9e-05\n",
            "ADP  =  3.4e-05\n",
            "ADSK  =  0.000116\n",
            "AFL  =  1.4e-05\n",
            "AIG  =  0.000116\n",
            "AIZ  =  2.9e-05\n",
            "AJG  =  4.9e-05\n",
            "AKAM  =  0.028052\n",
            "ALGN  =  0.000327\n",
            "ALK  =  0.000198\n",
            "ALL  =  0.00035\n",
            "ALLE  =  8.4e-05\n",
            "AMAT  =  0.000122\n",
            "AMD  =  0.000373\n",
            "AME  =  7.2e-05\n",
            "AMGN  =  0.000143\n",
            "AMP  =  9.2e-05\n",
            "AMT  =  0.008854\n",
            "ANET  =  0.005685\n",
            "ANSS  =  0.0001\n",
            "ANTM  =  9.9e-05\n",
            "AON  =  6.1e-05\n",
            "AOS  =  1.9e-05\n",
            "APH  =  0.000122\n",
            "ARE  =  2.8e-05\n",
            "AVB  =  0.000115\n",
            "AVGO  =  0.00012\n",
            "AXP  =  2.2e-05\n",
            "BA  =  0.000168\n",
            "BAC  =  7.5e-05\n",
            "BAX  =  0.008741\n",
            "BDX  =  6.1e-05\n",
            "BEN  =  5e-06\n",
            "BIIB  =  0.013705\n",
            "BIO  =  4.4e-05\n",
            "BK  =  1.7e-05\n",
            "BLK  =  5.6e-05\n",
            "BMY  =  6.8e-05\n",
            "BR  =  4.5e-05\n",
            "BRO  =  0.003155\n",
            "BSX  =  8.6e-05\n",
            "BXP  =  5.7e-05\n",
            "C  =  7.1e-05\n",
            "CAH  =  3.6e-05\n",
            "CAT  =  8.1e-05\n",
            "CB  =  0.000109\n",
            "CBOE  =  9.1e-05\n",
            "CBRE  =  9.4e-05\n",
            "CCI  =  0.016569\n",
            "CDAY  =  0.000208\n",
            "CDNS  =  7.5e-05\n",
            "CDW  =  8.5e-05\n",
            "CERN  =  0.00013\n",
            "CFG  =  0.000157\n",
            "CHRW  =  5.8e-05\n",
            "CI  =  6.2e-05\n",
            "CINF  =  0.000197\n",
            "CMA  =  0.000188\n",
            "CME  =  0.000807\n",
            "CMI  =  0.000131\n",
            "CNC  =  0.000155\n",
            "COF  =  0.000118\n",
            "COO  =  0.000101\n",
            "CPRT  =  0.0001\n",
            "CRL  =  9.2e-05\n",
            "CRM  =  0.000113\n",
            "CSCO  =  6.3e-05\n",
            "CSX  =  6.3e-05\n",
            "CTAS  =  0.000124\n",
            "CTLT  =  0.000147\n",
            "CTSH  =  0.00014\n",
            "CTXS  =  0.018136\n",
            "CVS  =  8e-06\n",
            "DAL  =  0.000121\n",
            "DE  =  0.000137\n",
            "DFS  =  0.000186\n",
            "DGX  =  3.4e-05\n",
            "DHR  =  5.7e-05\n",
            "DLR  =  0.042006\n",
            "DOV  =  8.5e-05\n",
            "DRE  =  0.004324\n",
            "DVA  =  9.2e-05\n",
            "DXC  =  0.000201\n",
            "DXCM  =  0.0002\n",
            "EFX  =  0.00049\n",
            "EMR  =  0.000103\n",
            "ENPH  =  0.000166\n",
            "EQIX  =  0.024682\n",
            "EQR  =  0.000633\n",
            "ESS  =  0.000456\n",
            "ETN  =  6.4e-05\n",
            "EW  =  1.7e-05\n",
            "EXPD  =  4.9e-05\n",
            "EXR  =  0.008323\n",
            "FAST  =  6.7e-05\n",
            "FBHS  =  0.000214\n",
            "FDX  =  0.000201\n",
            "FFIV  =  7.3e-05\n",
            "FIS  =  3.6e-05\n",
            "FISV  =  5.5e-05\n",
            "FITB  =  0.000157\n",
            "FLT  =  4.9e-05\n",
            "FRC  =  6.1e-05\n",
            "FRT  =  0.000177\n",
            "FTNT  =  3.8e-05\n",
            "FTV  =  0.000135\n",
            "GD  =  2.8e-05\n",
            "GE  =  1.4e-05\n",
            "GILD  =  0.034463\n",
            "GL  =  5.6e-05\n",
            "GLW  =  0.00011\n",
            "GNRC  =  0.000188\n",
            "GPN  =  0.000123\n",
            "GS  =  4.7e-05\n",
            "GWW  =  5.9e-05\n",
            "HBAN  =  0.000114\n",
            "HCA  =  0.000148\n",
            "HIG  =  0.000108\n",
            "HII  =  6.1e-05\n",
            "HOLX  =  0.000201\n",
            "HON  =  5e-05\n",
            "HPE  =  6.3e-05\n",
            "HPQ  =  3.9e-05\n",
            "HSIC  =  7.3e-05\n",
            "HST  =  6.3e-05\n",
            "HUM  =  0.000199\n",
            "HWM  =  9.1e-05\n",
            "IBM  =  0.000323\n",
            "ICE  =  4.7e-05\n",
            "IDXX  =  4.5e-05\n",
            "IEX  =  6.3e-05\n",
            "ILMN  =  8.9e-05\n",
            "INCY  =  0.000102\n",
            "INFO  =  4.6e-05\n",
            "INTC  =  3.2e-05\n",
            "INTU  =  2.1e-05\n",
            "IPGP  =  9.9e-05\n",
            "IQV  =  3.1e-05\n",
            "IR  =  0.000238\n",
            "IRM  =  0.000159\n",
            "ISRG  =  6.1e-05\n",
            "IT  =  2e-05\n",
            "ITW  =  8.6e-05\n",
            "IVZ  =  0.000128\n",
            "J  =  0.000132\n",
            "JBHT  =  8.4e-05\n",
            "JCI  =  5.8e-05\n",
            "JKHY  =  0.020439\n",
            "JNJ  =  7.3e-05\n",
            "JNPR  =  4.3e-05\n",
            "JPM  =  5.2e-05\n",
            "KEY  =  7.9e-05\n",
            "KEYS  =  1.3e-05\n",
            "KIM  =  0.000199\n",
            "KLAC  =  0.000188\n",
            "KSU  =  2.1e-05\n",
            "L  =  2.5e-05\n",
            "LDOS  =  3.1e-05\n",
            "LH  =  2.8e-05\n",
            "LHX  =  0.007388\n",
            "LLY  =  0.002224\n",
            "LMT  =  0.000105\n",
            "LNC  =  0.000151\n",
            "LRCX  =  0.0001\n",
            "LUV  =  7.2e-05\n",
            "MA  =  0.000101\n",
            "MAA  =  2.2e-05\n",
            "MAS  =  0.000126\n",
            "MCHP  =  0.000144\n",
            "MCK  =  2e-05\n",
            "MCO  =  6.8e-05\n",
            "MDT  =  3e-05\n",
            "MET  =  5e-05\n",
            "MKTX  =  0.000123\n",
            "MMC  =  5.7e-05\n",
            "MMM  =  2.6e-05\n",
            "MPWR  =  8.1e-05\n",
            "MRK  =  0.000102\n",
            "MRNA  =  0.002584\n",
            "MS  =  7.4e-05\n",
            "MSCI  =  0.001682\n",
            "MSFT  =  8.3e-05\n",
            "MSI  =  1.4e-05\n",
            "MTB  =  2e-06\n",
            "MTD  =  9.5e-05\n",
            "MU  =  0.000125\n",
            "NDAQ  =  4.7e-05\n",
            "NLOK  =  0.009107\n",
            "NLSN  =  0.000119\n",
            "NOC  =  0.015906\n",
            "NOW  =  0.000121\n",
            "NSC  =  0.000106\n",
            "NTAP  =  6e-05\n",
            "NTRS  =  2e-05\n",
            "NVDA  =  0.000156\n",
            "NXPI  =  0.000141\n",
            "O  =  7e-06\n",
            "ODFL  =  7.4e-05\n",
            "ORCL  =  0.000213\n",
            "PAYC  =  0.000207\n",
            "PAYX  =  4.2e-05\n",
            "PBCT  =  1.5e-05\n",
            "PCAR  =  0.000131\n",
            "PEAK  =  3e-06\n",
            "PFE  =  9.8e-05\n",
            "PFG  =  4.2e-05\n",
            "PGR  =  0.007699\n",
            "PH  =  0.000188\n",
            "PKI  =  0.000145\n",
            "PLD  =  1e-05\n",
            "PNC  =  6.1e-05\n",
            "PNR  =  0.000148\n",
            "PRU  =  2.6e-05\n",
            "PSA  =  0.017411\n",
            "PTC  =  7e-05\n",
            "PWR  =  0.000114\n",
            "PYPL  =  6.6e-05\n",
            "QCOM  =  0.000185\n",
            "QRVO  =  0.000278\n",
            "RE  =  2.5e-05\n",
            "REG  =  0.000335\n",
            "REGN  =  0.033803\n",
            "RF  =  0.000131\n",
            "RHI  =  0.000106\n",
            "RJF  =  3e-05\n",
            "RMD  =  6.2e-05\n",
            "ROK  =  0.000136\n",
            "ROL  =  0.003929\n",
            "ROP  =  3.5e-05\n",
            "RSG  =  6.5e-05\n",
            "RTX  =  7e-06\n",
            "SBAC  =  0.031848\n",
            "SCHW  =  5.9e-05\n",
            "SIVB  =  0.00017\n",
            "SNA  =  5.8e-05\n",
            "SNPS  =  2.5e-05\n",
            "SPG  =  0.000186\n",
            "SPGI  =  5.6e-05\n",
            "STE  =  9.4e-05\n",
            "STT  =  0.00011\n",
            "STX  =  0.00032\n",
            "SWK  =  0.000133\n",
            "SWKS  =  0.000287\n",
            "SYF  =  0.000171\n",
            "SYK  =  1.7e-05\n",
            "TDG  =  0.000109\n",
            "TDY  =  1.9e-05\n",
            "TECH  =  1.5e-05\n",
            "TEL  =  9.4e-05\n",
            "TER  =  6.6e-05\n",
            "TFC  =  0.000109\n",
            "TFX  =  6.4e-05\n",
            "TMO  =  0.000109\n",
            "TRMB  =  7.8e-05\n",
            "TROW  =  1.6e-05\n",
            "TRV  =  5e-05\n",
            "TT  =  7.4e-05\n",
            "TXN  =  4.6e-05\n",
            "TXT  =  7.2e-05\n",
            "TYL  =  3.8e-05\n",
            "UAL  =  0.000161\n",
            "UDR  =  0.000401\n",
            "UHS  =  0.000108\n",
            "UNH  =  0.000131\n",
            "UNP  =  0.000114\n",
            "UPS  =  5e-05\n",
            "URI  =  0.000213\n",
            "USB  =  4.1e-05\n",
            "V  =  7.3e-05\n",
            "VNO  =  3.3e-05\n",
            "VRSK  =  5.2e-05\n",
            "VRSN  =  0.005539\n",
            "VRTX  =  0.007859\n",
            "VTR  =  0.000138\n",
            "VTRS  =  8e-06\n",
            "WAB  =  8.1e-05\n",
            "WAT  =  4.2e-05\n",
            "WDC  =  0.000346\n",
            "WELL  =  6.8e-05\n",
            "WFC  =  0.000128\n",
            "WLTW  =  5.3e-05\n",
            "WM  =  5.1e-05\n",
            "WRB  =  1.9e-05\n",
            "WST  =  0.000546\n",
            "WU  =  8.7e-05\n",
            "WY  =  0.000173\n",
            "XLNX  =  6.4e-05\n",
            "XRAY  =  3.4e-05\n",
            "XYL  =  3.5e-05\n",
            "ZBH  =  9.8e-05\n",
            "ZBRA  =  0.000136\n",
            "ZION  =  0.000133\n",
            "ZTS  =  7.7e-05\n"
          ]
        }
      ]
    },
    {
      "cell_type": "code",
      "metadata": {
        "colab": {
          "base_uri": "https://localhost:8080/"
        },
        "id": "NXmQ3d-vqQcQ",
        "outputId": "3bbc336e-d607-44f4-b6d4-01c35cf78858"
      },
      "source": [
        "c"
      ],
      "execution_count": 49,
      "outputs": [
        {
          "output_type": "execute_result",
          "data": {
            "text/plain": [
              "937"
            ]
          },
          "metadata": {},
          "execution_count": 49
        }
      ]
    },
    {
      "cell_type": "markdown",
      "metadata": {
        "id": "Xy751Z2GqtdN"
      },
      "source": [
        "## MAXIMIN OPTIMIZATION WITHOUT DIVERSIFICATION CONSTRAINTS"
      ]
    },
    {
      "cell_type": "code",
      "metadata": {
        "id": "PPLbAqoDp5kf"
      },
      "source": [
        "x = stocks_return.columns"
      ],
      "execution_count": 50,
      "outputs": []
    },
    {
      "cell_type": "code",
      "metadata": {
        "id": "i9ml0NStqvZ6"
      },
      "source": [
        "prob = LpProblem(\"Maximin_optimization\", LpMaximize)"
      ],
      "execution_count": 51,
      "outputs": []
    },
    {
      "cell_type": "code",
      "metadata": {
        "id": "C64K5-CNqw5M"
      },
      "source": [
        "x=LpVariable.dicts(\"Proportion\",x, 0, cat='Continuous')\n",
        "z=LpVariable(\"Minimum_Return\")\n",
        "prob += z, 'Minimum Return'\n",
        "for i in range(stocks_return.shape[0]):\n",
        "  t = dict(zip(x, stocks_return.iloc[i,:]))\n",
        "  prob += lpSum([t[i] * x[i] for i in stocks_return.columns])-z>=0\n",
        "prob += lpSum(x) == 1\n",
        "prob += lpSum([expected_return[i] * x[i] for i in stocks_return.columns]) >=0.03"
      ],
      "execution_count": 52,
      "outputs": []
    },
    {
      "cell_type": "code",
      "metadata": {
        "id": "x3Aazzanqz2F",
        "colab": {
          "base_uri": "https://localhost:8080/"
        },
        "outputId": "58dd7e59-93e2-4646-8d6f-d3ee80fe8fd4"
      },
      "source": [
        "%%time\n",
        "prob.solve()"
      ],
      "execution_count": 53,
      "outputs": [
        {
          "output_type": "stream",
          "name": "stdout",
          "text": [
            "CPU times: user 88 ms, sys: 15.1 ms, total: 103 ms\n",
            "Wall time: 111 ms\n"
          ]
        },
        {
          "output_type": "execute_result",
          "data": {
            "text/plain": [
              "1"
            ]
          },
          "metadata": {},
          "execution_count": 53
        }
      ]
    },
    {
      "cell_type": "code",
      "metadata": {
        "id": "V5cLAIzkq2zs",
        "colab": {
          "base_uri": "https://localhost:8080/"
        },
        "outputId": "89aede42-1052-4ed5-8358-c765d6716d7c"
      },
      "source": [
        "print(\"Status:\", LpStatus[prob.status])"
      ],
      "execution_count": 54,
      "outputs": [
        {
          "output_type": "stream",
          "name": "stdout",
          "text": [
            "Status: Optimal\n"
          ]
        }
      ]
    },
    {
      "cell_type": "code",
      "metadata": {
        "id": "jAeehISFq4Si",
        "colab": {
          "base_uri": "https://localhost:8080/"
        },
        "outputId": "48c98ab0-e0c3-4aaf-8917-cdbfb3245e84"
      },
      "source": [
        "for i in prob.variables():\n",
        "  if i.varValue!=0:\n",
        "    print(i.name, \" = \", i.varValue)"
      ],
      "execution_count": 55,
      "outputs": [
        {
          "output_type": "stream",
          "name": "stdout",
          "text": [
            "Minimum_Return  =  0.21942421\n",
            "Proportion_ARWR  =  0.19717994\n",
            "Proportion_JYNT  =  0.14169937\n",
            "Proportion_MRNA  =  0.23074024\n",
            "Proportion_OMI  =  0.20937859\n",
            "Proportion_ZYXI  =  0.22100186\n"
          ]
        }
      ]
    },
    {
      "cell_type": "code",
      "metadata": {
        "id": "cGCm7a1QWFSN"
      },
      "source": [
        "colors = ['#ff9999','#66b3ff','#99ff99','#ffcc99', '#E6E6FA']"
      ],
      "execution_count": 56,
      "outputs": []
    },
    {
      "cell_type": "code",
      "metadata": {
        "colab": {
          "base_uri": "https://localhost:8080/",
          "height": 309
        },
        "id": "pP0nWRMS3MaD",
        "outputId": "3849b9f3-ee8b-4442-ea32-589de80e1e5d"
      },
      "source": [
        "labels = []\n",
        "sizes = []\n",
        "for i in prob.variables()[1:]:\n",
        "  if i.varValue!=0:\n",
        "    labels.append(i.name.split('_')[1])\n",
        "    sizes.append(i.varValue)\n",
        "plt.figure(figsize = [5,5])\n",
        "plt.pie(sizes, labels=labels,  autopct='%1.2f%%', colors = colors)\n",
        "plt.axis('equal')\n",
        "plt.show()"
      ],
      "execution_count": 57,
      "outputs": [
        {
          "output_type": "display_data",
          "data": {
            "image/png": "[encoded data removed]",
            "text/plain": [
              "<Figure size 360x360 with 1 Axes>"
            ]
          },
          "metadata": {}
        }
      ]
    },
    {
      "cell_type": "code",
      "metadata": {
        "id": "YNz7mfznq-fa"
      },
      "source": [
        "optimal_proportion = {}\n",
        "for i in prob.variables()[1:]:\n",
        "  optimal_proportion[i.name.split('_')[1]] = i.varValue"
      ],
      "execution_count": 58,
      "outputs": []
    },
    {
      "cell_type": "code",
      "metadata": {
        "id": "8p3LtIK4rN1i",
        "colab": {
          "base_uri": "https://localhost:8080/"
        },
        "outputId": "adc18545-9104-42da-e20e-c95a01e1dd45"
      },
      "source": [
        "portfolio_return = lpSum([expected_return[i] * optimal_proportion[i] for i in stocks_return.columns])\n",
        "print(portfolio_return*100)"
      ],
      "execution_count": 59,
      "outputs": [
        {
          "output_type": "stream",
          "name": "stdout",
          "text": [
            "30.885892790688562\n"
          ]
        }
      ]
    },
    {
      "cell_type": "code",
      "metadata": {
        "id": "KWcmNaotwsfx"
      },
      "source": [
        "stocks_selected = []\n",
        "stocks_weightage = []\n",
        "for i in prob.variables()[1:]:\n",
        "  if i.varValue>0:\n",
        "    stocks_selected.append(i.name.split('_')[1])\n",
        "    stocks_weightage.append(i.varValue)"
      ],
      "execution_count": 60,
      "outputs": []
    },
    {
      "cell_type": "code",
      "metadata": {
        "id": "TGKZ0bNfwt1X",
        "colab": {
          "base_uri": "https://localhost:8080/"
        },
        "outputId": "e18ab622-e9ab-4867-96c6-cd44d231ca1a"
      },
      "source": [
        "cov = np.asmatrix(np.cov(stocks_return.loc[:, stocks_selected].T))\n",
        "stocks_weightage = np.asarray(stocks_weightage)\n",
        "((stocks_weightage@cov@stocks_weightage.T)[0,0])**0.5*100"
      ],
      "execution_count": 61,
      "outputs": [
        {
          "output_type": "execute_result",
          "data": {
            "text/plain": [
              "15.338510463261908"
            ]
          },
          "metadata": {},
          "execution_count": 61
        }
      ]
    },
    {
      "cell_type": "markdown",
      "metadata": {
        "id": "L_UCky7PrY-Y"
      },
      "source": [
        "## MAXIMIN OPTIMIZATION WITH DIVERSIFICATION CONSTRAINTS"
      ]
    },
    {
      "cell_type": "markdown",
      "metadata": {
        "id": "6v3_CCO4w2rS"
      },
      "source": [
        "xmax = 0.05"
      ]
    },
    {
      "cell_type": "code",
      "metadata": {
        "id": "0nw7kvpLrP3E"
      },
      "source": [
        "prob1 = LpProblem(\"Maximin_optimization_with_constrains\", LpMaximize)"
      ],
      "execution_count": 62,
      "outputs": []
    },
    {
      "cell_type": "code",
      "metadata": {
        "id": "-gjxqOffra3L"
      },
      "source": [
        "x=LpVariable.dicts(\"Proportion\",x, 0, cat='Continuous')\n",
        "z=LpVariable(\"Minimum_Return\")\n",
        "prob1 += z, 'Minimum Return'\n",
        "for i in range(stocks_return.shape[0]):\n",
        "  t = dict(zip(x, stocks_return.iloc[i,:]))\n",
        "  prob1 += lpSum([t[i] * x[i] for i in stocks_return.columns])-z>=0\n",
        "prob1 += lpSum([x[i] for i in large]) <=0.75\n",
        "prob1 += lpSum([x[i] for i in mid]) <=0.75\n",
        "prob1 += lpSum([x[i] for i in small]) <=0.75\n",
        "prob1 += lpSum([x[i] for i in finance]) <=0.50\n",
        "prob1 += lpSum([x[i] for i in healthcare]) <=0.50\n",
        "prob1 += lpSum([x[i] for i in technology]) <=0.50\n",
        "prob1 += lpSum([x[i] for i in real_estate]) <=0.50\n",
        "prob1 += lpSum([x[i] for i in industrial]) <=0.10\n",
        "prob1 += lpSum([x[i] for i in finance]) >=0.10\n",
        "prob1 += lpSum([x[i] for i in healthcare]) >=0.10\n",
        "prob1 += lpSum([x[i] for i in technology]) >=0.10\n",
        "prob1 += lpSum([x[i] for i in real_estate]) >=0.10\n",
        "for i in stocks_return.columns:\n",
        "  prob1 += x[i]<=0.05\n",
        "prob1 += lpSum(x) == 1\n",
        "prob1 += lpSum([expected_return[i] * x[i] for i in stocks_return.columns]) >=0.03"
      ],
      "execution_count": 63,
      "outputs": []
    },
    {
      "cell_type": "code",
      "metadata": {
        "id": "biygI3fzvC-H",
        "colab": {
          "base_uri": "https://localhost:8080/"
        },
        "outputId": "b559ea1b-0e71-4814-9a99-51ffb44a7103"
      },
      "source": [
        "%%time\n",
        "prob1.solve()"
      ],
      "execution_count": 64,
      "outputs": [
        {
          "output_type": "stream",
          "name": "stdout",
          "text": [
            "CPU times: user 101 ms, sys: 21.4 ms, total: 122 ms\n",
            "Wall time: 128 ms\n"
          ]
        },
        {
          "output_type": "execute_result",
          "data": {
            "text/plain": [
              "1"
            ]
          },
          "metadata": {},
          "execution_count": 64
        }
      ]
    },
    {
      "cell_type": "code",
      "metadata": {
        "id": "sd1Oz8qbvIf0",
        "colab": {
          "base_uri": "https://localhost:8080/"
        },
        "outputId": "4fb240e7-9616-4612-84e7-46d0520ffc65"
      },
      "source": [
        "print(\"Status:\", LpStatus[prob1.status])"
      ],
      "execution_count": 65,
      "outputs": [
        {
          "output_type": "stream",
          "name": "stdout",
          "text": [
            "Status: Optimal\n"
          ]
        }
      ]
    },
    {
      "cell_type": "code",
      "metadata": {
        "id": "Liz6oWrOvJ8R",
        "colab": {
          "base_uri": "https://localhost:8080/"
        },
        "outputId": "31bf6709-f28d-4b73-f3d1-95f6c05d015b"
      },
      "source": [
        "for i in prob1.variables():\n",
        "  if i.varValue!=0:\n",
        "    print(i.name, \" = \", i.varValue)"
      ],
      "execution_count": 66,
      "outputs": [
        {
          "output_type": "stream",
          "name": "stdout",
          "text": [
            "Minimum_Return  =  0.13998543\n",
            "Proportion_AKAM  =  0.05\n",
            "Proportion_AMN  =  0.00168149\n",
            "Proportion_ARWR  =  0.0021917555\n",
            "Proportion_CONE  =  0.05\n",
            "Proportion_CYH  =  0.05\n",
            "Proportion_DXCM  =  0.05\n",
            "Proportion_EHTH  =  0.05\n",
            "Proportion_ENPH  =  0.05\n",
            "Proportion_EQIX  =  0.05\n",
            "Proportion_FTNT  =  0.05\n",
            "Proportion_JYNT  =  0.047927591\n",
            "Proportion_LSCC  =  0.05\n",
            "Proportion_MRNA  =  0.05\n",
            "Proportion_NVDA  =  0.05\n",
            "Proportion_ODFL  =  0.05\n",
            "Proportion_OMI  =  0.05\n",
            "Proportion_REGN  =  0.014791734\n",
            "Proportion_RILY  =  0.05\n",
            "Proportion_SAFE  =  0.05\n",
            "Proportion_STAA  =  0.05\n",
            "Proportion_SYNA  =  0.03340743\n",
            "Proportion_WST  =  0.05\n",
            "Proportion_ZYXI  =  0.05\n"
          ]
        }
      ]
    },
    {
      "cell_type": "code",
      "metadata": {
        "id": "C8mYjmkw28WA"
      },
      "source": [
        "labels = []\n",
        "sizes = []\n",
        "for i in prob1.variables()[1:]:\n",
        "  if i.varValue!=0:\n",
        "    labels.append(i.name.split('_')[1])\n",
        "    sizes.append(i.varValue)"
      ],
      "execution_count": 67,
      "outputs": []
    },
    {
      "cell_type": "code",
      "metadata": {
        "id": "TYZ_NnfDvNNh"
      },
      "source": [
        "optimal_proportion = {}\n",
        "for i in prob1.variables()[1:]:\n",
        "  optimal_proportion[i.name.split('_')[1]] = i.varValue"
      ],
      "execution_count": 73,
      "outputs": []
    },
    {
      "cell_type": "code",
      "metadata": {
        "id": "iuykUaWsvdlw"
      },
      "source": [
        "portfolio_return = lpSum([expected_return[i] * optimal_proportion[i] for i in stocks_return.columns])"
      ],
      "execution_count": 74,
      "outputs": []
    },
    {
      "cell_type": "code",
      "metadata": {
        "id": "7sIqhLYovgXF",
        "colab": {
          "base_uri": "https://localhost:8080/"
        },
        "outputId": "0a0e3f15-2884-4b9f-c423-b7648cd4df87"
      },
      "source": [
        "print(portfolio_return)"
      ],
      "execution_count": 75,
      "outputs": [
        {
          "output_type": "stream",
          "name": "stdout",
          "text": [
            "0.1858558892155746\n"
          ]
        }
      ]
    },
    {
      "cell_type": "code",
      "metadata": {
        "id": "I55JqT7wviBf"
      },
      "source": [
        "stocks_selected = []\n",
        "stocks_weightage = []\n",
        "for i in prob1.variables()[1:]:\n",
        "  if i.varValue>0:\n",
        "    stocks_selected.append(i.name.split('_')[1])\n",
        "    stocks_weightage.append(i.varValue)"
      ],
      "execution_count": 76,
      "outputs": []
    },
    {
      "cell_type": "code",
      "metadata": {
        "id": "V36iaNIdwziL",
        "colab": {
          "base_uri": "https://localhost:8080/"
        },
        "outputId": "7628a382-235e-4b03-a84e-e1f9cb57b52c"
      },
      "source": [
        "cov = np.asmatrix(np.cov(stocks_return.loc[:, stocks_selected].T))\n",
        "stocks_weightage = np.asarray(stocks_weightage)\n",
        "((stocks_weightage@cov@stocks_weightage.T)[0,0])**0.5*100"
      ],
      "execution_count": 77,
      "outputs": [
        {
          "output_type": "execute_result",
          "data": {
            "text/plain": [
              "7.11614461517044"
            ]
          },
          "metadata": {},
          "execution_count": 77
        }
      ]
    },
    {
      "cell_type": "markdown",
      "metadata": {
        "id": "Hvpayr8Ow8Pr"
      },
      "source": [
        "xmax = 0.1"
      ]
    },
    {
      "cell_type": "code",
      "metadata": {
        "id": "x-AcXbsb2GzH"
      },
      "source": [
        "prob1 = LpProblem(\"Maximin_optimization_with_constrains\", LpMaximize)"
      ],
      "execution_count": 78,
      "outputs": []
    },
    {
      "cell_type": "code",
      "metadata": {
        "id": "5GE2YUq_2GzL"
      },
      "source": [
        "x=LpVariable.dicts(\"Proportion\",x, 0, cat='Continuous')\n",
        "z=LpVariable(\"Minimum_Return\")\n",
        "prob1 += z, 'Minimum Return'\n",
        "for i in range(stocks_return.shape[0]):\n",
        "  t = dict(zip(x, stocks_return.iloc[i,:]))\n",
        "  prob1 += lpSum([t[i] * x[i] for i in stocks_return.columns])-z>=0\n",
        "prob1 += lpSum([x[i] for i in large]) <=0.75\n",
        "prob1 += lpSum([x[i] for i in mid]) <=0.75\n",
        "prob1 += lpSum([x[i] for i in small]) <=0.75\n",
        "prob1 += lpSum([x[i] for i in finance]) <=0.50\n",
        "prob1 += lpSum([x[i] for i in healthcare]) <=0.50\n",
        "prob1 += lpSum([x[i] for i in technology]) <=0.50\n",
        "prob1 += lpSum([x[i] for i in real_estate]) <=0.50\n",
        "prob1 += lpSum([x[i] for i in industrial]) <=0.10\n",
        "prob1 += lpSum([x[i] for i in finance]) >=0.10\n",
        "prob1 += lpSum([x[i] for i in healthcare]) >=0.10\n",
        "prob1 += lpSum([x[i] for i in technology]) >=0.10\n",
        "prob1 += lpSum([x[i] for i in real_estate]) >=0.10\n",
        "for i in stocks_return.columns:\n",
        "  prob1 += x[i]<=0.1\n",
        "prob1 += lpSum(x) == 1\n",
        "prob1 += lpSum([expected_return[i] * x[i] for i in stocks_return.columns]) >=0.03"
      ],
      "execution_count": 79,
      "outputs": []
    },
    {
      "cell_type": "code",
      "metadata": {
        "colab": {
          "base_uri": "https://localhost:8080/"
        },
        "id": "I-Dz4GZG2GzP",
        "outputId": "6c56172a-3239-40a3-d602-8b5ae7a3cb50"
      },
      "source": [
        "%%time\n",
        "prob1.solve()"
      ],
      "execution_count": 80,
      "outputs": [
        {
          "output_type": "stream",
          "name": "stdout",
          "text": [
            "CPU times: user 111 ms, sys: 15.5 ms, total: 126 ms\n",
            "Wall time: 123 ms\n"
          ]
        },
        {
          "output_type": "execute_result",
          "data": {
            "text/plain": [
              "1"
            ]
          },
          "metadata": {},
          "execution_count": 80
        }
      ]
    },
    {
      "cell_type": "code",
      "metadata": {
        "colab": {
          "base_uri": "https://localhost:8080/"
        },
        "id": "HMosHMPL2GzT",
        "outputId": "287b2593-3d1d-4bef-d9c1-833ea6c8a891"
      },
      "source": [
        "print(\"Status:\", LpStatus[prob1.status])"
      ],
      "execution_count": 81,
      "outputs": [
        {
          "output_type": "stream",
          "name": "stdout",
          "text": [
            "Status: Optimal\n"
          ]
        }
      ]
    },
    {
      "cell_type": "code",
      "metadata": {
        "colab": {
          "base_uri": "https://localhost:8080/"
        },
        "id": "IwhHrHez2GzU",
        "outputId": "bf5cbe0d-17e8-4113-df78-9d3bb19d7964"
      },
      "source": [
        "for i in prob1.variables():\n",
        "  if i.varValue!=0:\n",
        "    print(i.name, \" = \", i.varValue)"
      ],
      "execution_count": 82,
      "outputs": [
        {
          "output_type": "stream",
          "name": "stdout",
          "text": [
            "Minimum_Return  =  0.17854871\n",
            "Proportion_ARWR  =  0.0089382377\n",
            "Proportion_CUTR  =  0.01052801\n",
            "Proportion_ENPH  =  0.1\n",
            "Proportion_JYNT  =  0.036606596\n",
            "Proportion_LSCC  =  0.1\n",
            "Proportion_MRNA  =  0.1\n",
            "Proportion_NVDA  =  0.1\n",
            "Proportion_OMI  =  0.1\n",
            "Proportion_RILY  =  0.1\n",
            "Proportion_SAFE  =  0.1\n",
            "Proportion_STAA  =  0.1\n",
            "Proportion_SYNA  =  0.056060747\n",
            "Proportion_WST  =  0.018936339\n",
            "Proportion_ZYXI  =  0.06893007\n"
          ]
        }
      ]
    },
    {
      "cell_type": "code",
      "metadata": {
        "id": "uVV5eW-72GzV"
      },
      "source": [
        "optimal_proportion = {}\n",
        "for i in prob1.variables()[1:]:\n",
        "  optimal_proportion[i.name.split('_')[1]] = i.varValue"
      ],
      "execution_count": 83,
      "outputs": []
    },
    {
      "cell_type": "code",
      "metadata": {
        "id": "5r23IrKb2GzY"
      },
      "source": [
        "portfolio_return = lpSum([expected_return[i] * optimal_proportion[i] for i in stocks_return.columns])"
      ],
      "execution_count": 84,
      "outputs": []
    },
    {
      "cell_type": "code",
      "metadata": {
        "colab": {
          "base_uri": "https://localhost:8080/"
        },
        "id": "C6Fl_xr72Gza",
        "outputId": "059127c1-7eff-44d6-cf9c-2beb17ae6c0e"
      },
      "source": [
        "print(portfolio_return)"
      ],
      "execution_count": 85,
      "outputs": [
        {
          "output_type": "stream",
          "name": "stdout",
          "text": [
            "0.255787150650906\n"
          ]
        }
      ]
    },
    {
      "cell_type": "code",
      "metadata": {
        "id": "5jztfbq62Gzh"
      },
      "source": [
        "stocks_selected = []\n",
        "stocks_weightage = []\n",
        "for i in prob1.variables()[1:]:\n",
        "  if i.varValue>0:\n",
        "    stocks_selected.append(i.name.split('_')[1])\n",
        "    stocks_weightage.append(i.varValue)"
      ],
      "execution_count": 86,
      "outputs": []
    },
    {
      "cell_type": "code",
      "metadata": {
        "colab": {
          "base_uri": "https://localhost:8080/"
        },
        "id": "LghBq-Nb2Gzp",
        "outputId": "486db62b-7b6d-448a-a0ee-44953dc90850"
      },
      "source": [
        "cov = np.asmatrix(np.cov(stocks_return.loc[:, stocks_selected].T))\n",
        "stocks_weightage = np.asarray(stocks_weightage)\n",
        "((stocks_weightage@cov@stocks_weightage.T)[0,0])**0.5*100"
      ],
      "execution_count": 87,
      "outputs": [
        {
          "output_type": "execute_result",
          "data": {
            "text/plain": [
              "11.821014080505353"
            ]
          },
          "metadata": {},
          "execution_count": 87
        }
      ]
    },
    {
      "cell_type": "code",
      "metadata": {
        "id": "MrxO2Div2pn7"
      },
      "source": [
        "prob1 = LpProblem(\"Maximin_optimization_with_constrains\", LpMaximize)"
      ],
      "execution_count": 88,
      "outputs": []
    },
    {
      "cell_type": "code",
      "metadata": {
        "id": "OYf6rJTC2pn9"
      },
      "source": [
        "x=LpVariable.dicts(\"Proportion\",x, 0, cat='Continuous')\n",
        "z=LpVariable(\"Minimum_Return\")\n",
        "prob1 += z, 'Minimum Return'\n",
        "for i in range(stocks_return.shape[0]):\n",
        "  t = dict(zip(x, stocks_return.iloc[i,:]))\n",
        "  prob1 += lpSum([t[i] * x[i] for i in stocks_return.columns])-z>=0\n",
        "prob1 += lpSum([x[i] for i in large]) <=0.75\n",
        "prob1 += lpSum([x[i] for i in mid]) <=0.75\n",
        "prob1 += lpSum([x[i] for i in small]) <=0.75\n",
        "prob1 += lpSum([x[i] for i in finance]) <=0.50\n",
        "prob1 += lpSum([x[i] for i in healthcare]) <=0.50\n",
        "prob1 += lpSum([x[i] for i in technology]) <=0.50\n",
        "prob1 += lpSum([x[i] for i in real_estate]) <=0.50\n",
        "prob1 += lpSum([x[i] for i in industrial]) <=0.10\n",
        "prob1 += lpSum([x[i] for i in finance]) >=0.10\n",
        "prob1 += lpSum([x[i] for i in healthcare]) >=0.10\n",
        "prob1 += lpSum([x[i] for i in technology]) >=0.10\n",
        "prob1 += lpSum([x[i] for i in real_estate]) >=0.10\n",
        "for i in stocks_return.columns:\n",
        "  prob1 += x[i]<=0.15\n",
        "prob1 += lpSum(x) == 1\n",
        "prob1 += lpSum([expected_return[i] * x[i] for i in stocks_return.columns]) >=0.03"
      ],
      "execution_count": 89,
      "outputs": []
    },
    {
      "cell_type": "code",
      "metadata": {
        "colab": {
          "base_uri": "https://localhost:8080/"
        },
        "id": "Tp5DjQOk2poB",
        "outputId": "bd840dce-9cf5-4e2b-ad40-f8b773991f4c"
      },
      "source": [
        "%%time\n",
        "prob1.solve()"
      ],
      "execution_count": 90,
      "outputs": [
        {
          "output_type": "stream",
          "name": "stdout",
          "text": [
            "CPU times: user 90.6 ms, sys: 15.1 ms, total: 106 ms\n",
            "Wall time: 135 ms\n"
          ]
        },
        {
          "output_type": "execute_result",
          "data": {
            "text/plain": [
              "1"
            ]
          },
          "metadata": {},
          "execution_count": 90
        }
      ]
    },
    {
      "cell_type": "code",
      "metadata": {
        "colab": {
          "base_uri": "https://localhost:8080/"
        },
        "id": "_qdK74qe2poC",
        "outputId": "dd2c00f6-693e-4f7b-c486-164d6f56e7b1"
      },
      "source": [
        "print(\"Status:\", LpStatus[prob1.status])"
      ],
      "execution_count": 91,
      "outputs": [
        {
          "output_type": "stream",
          "name": "stdout",
          "text": [
            "Status: Optimal\n"
          ]
        }
      ]
    },
    {
      "cell_type": "code",
      "metadata": {
        "colab": {
          "base_uri": "https://localhost:8080/"
        },
        "id": "uFRjzzUI2poE",
        "outputId": "44a5edd5-022b-4b71-ac7b-bd9d7b3bf996"
      },
      "source": [
        "for i in prob1.variables():\n",
        "  if i.varValue!=0:\n",
        "    print(i.name, \" = \", i.varValue)"
      ],
      "execution_count": 92,
      "outputs": [
        {
          "output_type": "stream",
          "name": "stdout",
          "text": [
            "Minimum_Return  =  0.19919719\n",
            "Proportion_ARWR  =  0.073074301\n",
            "Proportion_CUTR  =  0.0036221805\n",
            "Proportion_ENPH  =  0.13704138\n",
            "Proportion_JYNT  =  0.12330352\n",
            "Proportion_MRNA  =  0.15\n",
            "Proportion_NVDA  =  0.067418783\n",
            "Proportion_OMI  =  0.15\n",
            "Proportion_RILY  =  0.14553984\n",
            "Proportion_SAFE  =  0.15\n"
          ]
        }
      ]
    },
    {
      "cell_type": "code",
      "metadata": {
        "id": "DWfc70DDV0V2"
      },
      "source": [
        "labels = []\n",
        "sizes = []\n",
        "for i in prob1.variables()[1:]:\n",
        "  if i.varValue!=0:\n",
        "    labels.append(i.name.split('_')[1])\n",
        "    sizes.append(i.varValue)"
      ],
      "execution_count": 93,
      "outputs": []
    },
    {
      "cell_type": "code",
      "metadata": {
        "id": "KKpWac6k2poF"
      },
      "source": [
        "optimal_proportion = {}\n",
        "for i in prob1.variables()[1:]:\n",
        "  optimal_proportion[i.name.split('_')[1]] = i.varValue"
      ],
      "execution_count": 94,
      "outputs": []
    },
    {
      "cell_type": "code",
      "metadata": {
        "id": "mQnK2qe22poG"
      },
      "source": [
        "portfolio_return = lpSum([expected_return[i] * optimal_proportion[i] for i in stocks_return.columns])"
      ],
      "execution_count": 95,
      "outputs": []
    },
    {
      "cell_type": "code",
      "metadata": {
        "colab": {
          "base_uri": "https://localhost:8080/"
        },
        "id": "xZFk7jJg2poH",
        "outputId": "a3f8621e-d416-43bb-b6db-2cb67b461bba"
      },
      "source": [
        "print(portfolio_return)"
      ],
      "execution_count": 96,
      "outputs": [
        {
          "output_type": "stream",
          "name": "stdout",
          "text": [
            "0.28758170187220483\n"
          ]
        }
      ]
    },
    {
      "cell_type": "code",
      "metadata": {
        "id": "-BCvW_sd2poI"
      },
      "source": [
        "stocks_selected = []\n",
        "stocks_weightage = []\n",
        "for i in prob1.variables()[1:]:\n",
        "  if i.varValue>0:\n",
        "    stocks_selected.append(i.name.split('_')[1])\n",
        "    stocks_weightage.append(i.varValue)"
      ],
      "execution_count": 97,
      "outputs": []
    },
    {
      "cell_type": "code",
      "metadata": {
        "colab": {
          "base_uri": "https://localhost:8080/"
        },
        "id": "XpBH7gge2poJ",
        "outputId": "7fdb2d5c-f3cf-49f7-8828-990bfab91377"
      },
      "source": [
        "cov = np.asmatrix(np.cov(stocks_return.loc[:, stocks_selected].T))\n",
        "stocks_weightage = np.asarray(stocks_weightage)\n",
        "((stocks_weightage@cov@stocks_weightage.T)[0,0])**0.5*100"
      ],
      "execution_count": 98,
      "outputs": [
        {
          "output_type": "execute_result",
          "data": {
            "text/plain": [
              "13.848802737163146"
            ]
          },
          "metadata": {},
          "execution_count": 98
        }
      ]
    },
    {
      "cell_type": "code",
      "metadata": {
        "id": "neEYgeTL2xJk"
      },
      "source": [
        ""
      ],
      "execution_count": 98,
      "outputs": []
    }
  ]
}